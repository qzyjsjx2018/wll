{
 "cells": [
  {
   "cell_type": "markdown",
   "metadata": {},
   "source": [
    "# 基本程序设计\n",
    "- 一切代码输入，请使用英文输入法"
   ]
  },
  {
   "cell_type": "code",
   "execution_count": 2,
   "metadata": {},
   "outputs": [
    {
     "name": "stdout",
     "output_type": "stream",
     "text": [
      "joker is bad man\n"
     ]
    }
   ],
   "source": [
    "print('joker is bad man')"
   ]
  },
  {
   "cell_type": "markdown",
   "metadata": {},
   "source": [
    "## 编写一个简单的程序\n",
    "- 圆公式面积： area = radius \\* radius \\* 3.1415"
   ]
  },
  {
   "cell_type": "markdown",
   "metadata": {},
   "source": [
    "### 在Python里面不需要定义数据的类型"
   ]
  },
  {
   "cell_type": "code",
   "execution_count": 5,
   "metadata": {},
   "outputs": [
    {
     "name": "stdout",
     "output_type": "stream",
     "text": [
      "31400.0\n"
     ]
    }
   ],
   "source": [
    "radius = 100  # 定义变量\n",
    "area = radius * radius * 3.14  # 普通代码，* 代表乘法\n",
    "print(area)  # 最后打印出结果"
   ]
  },
  {
   "cell_type": "markdown",
   "metadata": {},
   "source": [
    "## 控制台的读取与输入\n",
    "- input 输入进去的是字符串\n",
    "- eval"
   ]
  },
  {
   "cell_type": "markdown",
   "metadata": {},
   "source": [
    "- 在jupyter用shift + tab 键可以跳出解释文档"
   ]
  },
  {
   "cell_type": "code",
   "execution_count": 9,
   "metadata": {},
   "outputs": [
    {
     "name": "stdout",
     "output_type": "stream",
     "text": [
      "请输入一个数字1000\n",
      "1000\n"
     ]
    }
   ],
   "source": [
    "variable = input('请输入一个数字')\n",
    "print(variable) "
   ]
  },
  {
   "cell_type": "markdown",
   "metadata": {},
   "source": [
    "## 变量命名的规范\n",
    "- 由字母、数字、下划线构成\n",
    "- 不能以数字开头 \\*\n",
    "- 标识符不能是关键词(实际上是可以强制改变的，但是对于代码规范而言是极其不适合)\n",
    "- 可以是任意长度\n",
    "- 驼峰式命名"
   ]
  },
  {
   "cell_type": "code",
   "execution_count": 1,
   "metadata": {},
   "outputs": [
    {
     "name": "stdout",
     "output_type": "stream",
     "text": [
      "12\n"
     ]
    }
   ],
   "source": [
    "print(12)"
   ]
  },
  {
   "cell_type": "code",
   "execution_count": 2,
   "metadata": {},
   "outputs": [],
   "source": [
    "import os\n",
    "def go(num):\n",
    "    os.system('echo hahah')\n",
    "print = go\n",
    "print(12)"
   ]
  },
  {
   "cell_type": "markdown",
   "metadata": {},
   "source": [
    "## 变量、赋值语句和赋值表达式\n",
    "- 变量: 通俗理解为可以变化的量\n",
    "- x = 2 \\* x + 1 在数学中是一个方程，而在语言中它是一个表达式\n",
    "- test = test + 1 \\* 变量在赋值之前必须有值"
   ]
  },
  {
   "cell_type": "code",
   "execution_count": 1,
   "metadata": {},
   "outputs": [
    {
     "name": "stdout",
     "output_type": "stream",
     "text": [
      "201\n"
     ]
    }
   ],
   "source": [
    "x = 100\n",
    "x = 2 * x + 1  # 赋值语句，在赋值之前，一定要有值\n",
    "print(x)"
   ]
  },
  {
   "cell_type": "code",
   "execution_count": 8,
   "metadata": {},
   "outputs": [
    {
     "name": "stdout",
     "output_type": "stream",
     "text": [
      "数字100\n",
      "<class 'int'>\n",
      "300\n"
     ]
    }
   ],
   "source": [
    "a = eval(input('数字'))\n",
    "print(type(a))\n",
    "print(a * 3)"
   ]
  },
  {
   "cell_type": "markdown",
   "metadata": {},
   "source": [
    "## 同时赋值\n",
    "var1, var2,var3... = exp1,exp2,exp3..."
   ]
  },
  {
   "cell_type": "code",
   "execution_count": 10,
   "metadata": {},
   "outputs": [
    {
     "name": "stdout",
     "output_type": "stream",
     "text": [
      "lalal 120 120.33333 True\n"
     ]
    }
   ],
   "source": [
    "Joekr, Mistt,hahah,lalal = 'lalal',120,120.33333,True\n",
    "print(Joekr,Mistt,hahah,lalal)"
   ]
  },
  {
   "cell_type": "markdown",
   "metadata": {},
   "source": [
    "## 定义常量\n",
    "- 常量：表示一种定值标识符，适合于多次使用的场景。比如PI\n",
    "- 注意：在其他低级语言中如果定义了常量，那么，该常量是不可以被改变的，但是在Python中一切皆对象，常量也是可以被改变的"
   ]
  },
  {
   "cell_type": "code",
   "execution_count": 13,
   "metadata": {},
   "outputs": [
    {
     "name": "stdout",
     "output_type": "stream",
     "text": [
      "True\n"
     ]
    }
   ],
   "source": [
    "chart = 100.1\n",
    "chart = 'hahahah'\n",
    "chart = True\n",
    "print(chart)"
   ]
  },
  {
   "cell_type": "code",
   "execution_count": 14,
   "metadata": {},
   "outputs": [
    {
     "name": "stdout",
     "output_type": "stream",
     "text": [
      "3.141592653589793\n"
     ]
    }
   ],
   "source": [
    "import math\n",
    "print(math.pi)"
   ]
  },
  {
   "cell_type": "markdown",
   "metadata": {},
   "source": [
    "## 数值数据类型和运算符\n",
    "- 在Python中有两种数值类型（int 和 float）适用于加减乘除、模、幂次\n",
    "<img src = \"../Photo/01.jpg\"></img>"
   ]
  },
  {
   "cell_type": "markdown",
   "metadata": {},
   "source": [
    "## 运算符 /、//、**"
   ]
  },
  {
   "cell_type": "code",
   "execution_count": 15,
   "metadata": {},
   "outputs": [
    {
     "name": "stdout",
     "output_type": "stream",
     "text": [
      "600\n"
     ]
    }
   ],
   "source": [
    "number1 = 100\n",
    "number2 = 500\n",
    "print(number1 + number2)"
   ]
  },
  {
   "cell_type": "code",
   "execution_count": 16,
   "metadata": {},
   "outputs": [
    {
     "name": "stdout",
     "output_type": "stream",
     "text": [
      "600.0\n"
     ]
    }
   ],
   "source": [
    "number3 = 100.0\n",
    "number4 = 500.0\n",
    "print(number3 + number4)"
   ]
  },
  {
   "cell_type": "code",
   "execution_count": 17,
   "metadata": {},
   "outputs": [
    {
     "name": "stdout",
     "output_type": "stream",
     "text": [
      "-400.0\n"
     ]
    }
   ],
   "source": [
    "number3 = 100.0\n",
    "number4 = 500.0\n",
    "print(number3 - number4)"
   ]
  },
  {
   "cell_type": "code",
   "execution_count": 18,
   "metadata": {},
   "outputs": [
    {
     "name": "stdout",
     "output_type": "stream",
     "text": [
      "50000.0\n"
     ]
    }
   ],
   "source": [
    "number3 = 100.0\n",
    "number4 = 500.0\n",
    "print(number3 * number4)"
   ]
  },
  {
   "cell_type": "code",
   "execution_count": 19,
   "metadata": {},
   "outputs": [
    {
     "name": "stdout",
     "output_type": "stream",
     "text": [
      "0.2\n"
     ]
    }
   ],
   "source": [
    "number3 = 100.0\n",
    "number4 = 500.0\n",
    "print(number3 / number4)"
   ]
  },
  {
   "cell_type": "code",
   "execution_count": 20,
   "metadata": {},
   "outputs": [
    {
     "name": "stdout",
     "output_type": "stream",
     "text": [
      "0.0\n"
     ]
    }
   ],
   "source": [
    "number3 = 100.0\n",
    "number4 = 500.0\n",
    "print(number3 // number4)"
   ]
  },
  {
   "cell_type": "code",
   "execution_count": 22,
   "metadata": {},
   "outputs": [
    {
     "name": "stdout",
     "output_type": "stream",
     "text": [
      "10000.0\n"
     ]
    }
   ],
   "source": [
    "number3 = 100.0\n",
    "number4 = 2\n",
    "print(number3 ** number4)"
   ]
  },
  {
   "cell_type": "markdown",
   "metadata": {},
   "source": [
    "## 运算符 %"
   ]
  },
  {
   "cell_type": "code",
   "execution_count": 21,
   "metadata": {},
   "outputs": [
    {
     "name": "stdout",
     "output_type": "stream",
     "text": [
      "100.0\n"
     ]
    }
   ],
   "source": [
    "number3 = 100.0\n",
    "number4 = 500.0\n",
    "print(number3 % number4)"
   ]
  },
  {
   "cell_type": "markdown",
   "metadata": {},
   "source": [
    "## EP：\n",
    "- 25/4 多少，如果要将其转变为整数该怎么改写\n",
    "- 输入一个数字判断是奇数还是偶数\n",
    "- 进阶: 输入一个秒数，写一个程序将其转换成分和秒：例如500秒等于8分20秒\n",
    "- 进阶: 如果今天是星期六，那么10天以后是星期几？ 提示：每个星期的第0天是星期天"
   ]
  },
  {
   "cell_type": "code",
   "execution_count": 25,
   "metadata": {},
   "outputs": [
    {
     "name": "stdout",
     "output_type": "stream",
     "text": [
      "6\n"
     ]
    }
   ],
   "source": [
    "res = 25//4\n",
    "print(res)"
   ]
  },
  {
   "cell_type": "code",
   "execution_count": 30,
   "metadata": {},
   "outputs": [
    {
     "name": "stdout",
     "output_type": "stream",
     "text": [
      "input number20.0\n",
      "偶数\n"
     ]
    }
   ],
   "source": [
    "input_number = input('input number')\n",
    "input_number_int = eval(input_number)\n",
    "if input_number_int == int:\n",
    "    if input_number_int % 2 == 0:\n",
    "        print('偶数')\n",
    "    else:\n",
    "        print('奇数')\n",
    "else:\n",
    "    if input_number_int % 2.0 == 0.0:\n",
    "        print('偶数')\n",
    "    else:\n",
    "        print('奇数')"
   ]
  },
  {
   "cell_type": "code",
   "execution_count": 32,
   "metadata": {},
   "outputs": [
    {
     "name": "stdout",
     "output_type": "stream",
     "text": [
      "input500\n",
      "8 分 20 秒\n",
      "8分20秒\n"
     ]
    }
   ],
   "source": [
    "time = eval(input('input'))\n",
    "fen = time // 60\n",
    "miao = time % 60\n",
    "print(fen,'分',miao,'秒')\n",
    "print('%d分%d秒'%(fen,miao))"
   ]
  },
  {
   "cell_type": "code",
   "execution_count": 37,
   "metadata": {},
   "outputs": [
    {
     "name": "stdout",
     "output_type": "stream",
     "text": [
      "输入10\n",
      "2\n"
     ]
    }
   ],
   "source": [
    "time1 = 6\n",
    "time2 = eval(input('输入'))\n",
    "result = (time1 + time2) % 7\n",
    "print(result)"
   ]
  },
  {
   "cell_type": "markdown",
   "metadata": {},
   "source": [
    "## 科学计数法\n",
    "- 1.234e+2\n",
    "- 1.234e-2"
   ]
  },
  {
   "cell_type": "code",
   "execution_count": 38,
   "metadata": {},
   "outputs": [
    {
     "name": "stdout",
     "output_type": "stream",
     "text": [
      "123.4 0.01234\n"
     ]
    }
   ],
   "source": [
    "num1=1.234e+2\n",
    "num2 = 1.234e-2\n",
    "print(num1,num2)"
   ]
  },
  {
   "cell_type": "markdown",
   "metadata": {},
   "source": [
    "## 计算表达式和运算优先级\n",
    "<img src = \"../Photo/02.png\"></img>\n",
    "<img src = \"../Photo/03.png\"></img>"
   ]
  },
  {
   "cell_type": "code",
   "execution_count": null,
   "metadata": {},
   "outputs": [],
   "source": [
    "x = eval(input('x'))\n",
    "y = eval(input('y'))\n",
    "a = eval(input('a'))\n",
    "b = eval(input('b'))\n",
    "c = eval(input('c'))\n",
    "part_1 = (3 + 4 * x) / 5\n",
    "part_2 = (10 * (y-5)* (a+b+c))/ x\n",
    "part_3 = 9*(4/x + (9+x)/y)\n",
    "print(part_1 - part_2 + part_3)"
   ]
  },
  {
   "cell_type": "markdown",
   "metadata": {},
   "source": [
    "## 增强型赋值运算\n",
    "<img src = \"../Photo/04.png\"></img>"
   ]
  },
  {
   "cell_type": "code",
   "execution_count": 39,
   "metadata": {},
   "outputs": [
    {
     "name": "stdout",
     "output_type": "stream",
     "text": [
      "101\n"
     ]
    }
   ],
   "source": [
    "a = 1\n",
    "a += 100 # a = a + 100\n",
    "print(a)"
   ]
  },
  {
   "cell_type": "markdown",
   "metadata": {},
   "source": [
    "## 类型转换\n",
    "- float  -> int\n",
    "- 四舍五入 round"
   ]
  },
  {
   "cell_type": "code",
   "execution_count": 42,
   "metadata": {},
   "outputs": [
    {
     "data": {
      "text/plain": [
       "6"
      ]
     },
     "execution_count": 42,
     "metadata": {},
     "output_type": "execute_result"
    }
   ],
   "source": [
    "int(25 / 4) # 转换成整型"
   ]
  },
  {
   "cell_type": "code",
   "execution_count": 43,
   "metadata": {},
   "outputs": [
    {
     "data": {
      "text/plain": [
       "'6.25'"
      ]
     },
     "execution_count": 43,
     "metadata": {},
     "output_type": "execute_result"
    }
   ],
   "source": [
    "str(25 / 4) # 转换成字符串"
   ]
  },
  {
   "cell_type": "code",
   "execution_count": 46,
   "metadata": {
    "scrolled": true
   },
   "outputs": [
    {
     "data": {
      "text/plain": [
       "5.0"
      ]
     },
     "execution_count": 46,
     "metadata": {},
     "output_type": "execute_result"
    }
   ],
   "source": [
    "float(25//5) # 转换成浮点"
   ]
  },
  {
   "cell_type": "code",
   "execution_count": 51,
   "metadata": {},
   "outputs": [
    {
     "data": {
      "text/plain": [
       "6.2"
      ]
     },
     "execution_count": 51,
     "metadata": {},
     "output_type": "execute_result"
    }
   ],
   "source": [
    "round(25/4,1) # 四舍五入"
   ]
  },
  {
   "cell_type": "markdown",
   "metadata": {},
   "source": [
    "## EP:\n",
    "- 如果一个年营业税为0.06%，那么对于197.55e+2的年收入，需要交税为多少？(结果保留2为小数)\n",
    "- 必须使用科学计数法"
   ]
  },
  {
   "cell_type": "code",
   "execution_count": 52,
   "metadata": {},
   "outputs": [
    {
     "name": "stdout",
     "output_type": "stream",
     "text": [
      "是水仙花\n"
     ]
    }
   ],
   "source": [
    "water_floawer = 153\n",
    "bai = 153 //100\n",
    "shi = 153 //10 % 10\n",
    "ge = 153 % 10\n",
    "if water_floawer == bai ** 3 + shi **3 + ge **3:\n",
    "    print('是水仙花')\n",
    "else:\n",
    "    print('NO')"
   ]
  },
  {
   "cell_type": "code",
   "execution_count": 54,
   "metadata": {},
   "outputs": [
    {
     "data": {
      "text/plain": [
       "11.85"
      ]
     },
     "execution_count": 54,
     "metadata": {},
     "output_type": "execute_result"
    }
   ],
   "source": [
    "round(197.55e+2 * 0.06e-2,2)"
   ]
  },
  {
   "cell_type": "markdown",
   "metadata": {},
   "source": [
    "# Project\n",
    "- 用Python写一个贷款计算器程序：输入的是月供(monthlyPayment) 输出的是总还款数(totalpayment)\n",
    "![](../Photo/05.png)"
   ]
  },
  {
   "cell_type": "code",
   "execution_count": 55,
   "metadata": {
    "scrolled": true
   },
   "outputs": [
    {
     "name": "stdout",
     "output_type": "stream",
     "text": [
      "请输入贷款数100\n",
      "月利率100\n",
      "年限100\n",
      "12000000.0\n"
     ]
    }
   ],
   "source": [
    "贷款数 = eval(input('请输入贷款数'))\n",
    "月利率 = eval(input('月利率'))\n",
    "年限 = eval(input('年限'))\n",
    "月供= ( (贷款数 * 月利率) / (1-(1/(1+月利率)**(年限*12))))\n",
    "总还款数 = 月供 * 年限 * 12\n",
    "print(总还款数)"
   ]
  },
  {
   "cell_type": "code",
   "execution_count": 59,
   "metadata": {},
   "outputs": [
    {
     "name": "stdout",
     "output_type": "stream",
     "text": [
      "1531727407.061894\n"
     ]
    }
   ],
   "source": [
    "import time\n",
    "print(time.time())"
   ]
  },
  {
   "cell_type": "markdown",
   "metadata": {},
   "source": [
    "# Homework\n",
    "- 1\n",
    "<img src=\"../Photo/06.png\"></img>"
   ]
  },
  {
   "cell_type": "code",
   "execution_count": 1,
   "metadata": {},
   "outputs": [
    {
     "name": "stdout",
     "output_type": "stream",
     "text": [
      "输入摄氏温度：43\n",
      "43 摄氏度是 109.4 华氏度\n"
     ]
    }
   ],
   "source": [
    "celsius=eval(input(\"输入摄氏温度：\"))\n",
    "fahrenheit =(9/5)*celsius + 32\n",
    "print(celsius,\"摄氏度是\",fahrenheit ,\"华氏度\")"
   ]
  },
  {
   "cell_type": "markdown",
   "metadata": {},
   "source": [
    "- 2\n",
    "<img src=\"../Photo/07.png\"></img>"
   ]
  },
  {
   "cell_type": "code",
   "execution_count": 4,
   "metadata": {},
   "outputs": [
    {
     "name": "stdout",
     "output_type": "stream",
     "text": [
      "输入圆柱体的半径：5.5\n",
      "输入圆柱体的高：12\n",
      "面积是： 95.03\n",
      "体积是： 1140.36\n"
     ]
    }
   ],
   "source": [
    "import math\n",
    "radius=eval(input(\"输入圆柱体的半径：\"))\n",
    "length=eval(input(\"输入圆柱体的高：\"))\n",
    "area = round(radius* radius * math.pi,2)\n",
    "volume = round(area * length,2)\n",
    "print(\"面积是：\", area )\n",
    "print(\"体积是：\", volume )"
   ]
  },
  {
   "cell_type": "markdown",
   "metadata": {},
   "source": [
    "- 3\n",
    "<img src=\"../Photo/08.png\"></img>"
   ]
  },
  {
   "cell_type": "code",
   "execution_count": 6,
   "metadata": {},
   "outputs": [
    {
     "name": "stdout",
     "output_type": "stream",
     "text": [
      "Enter a value for feet:16.5\n",
      "16.5 feet is 5.0325 meters\n"
     ]
    }
   ],
   "source": [
    "feet=eval(input(\"Enter a value for feet:\"))\n",
    "meter=feet*0.305\n",
    "print(feet,\"feet is\",meter,\"meters\")"
   ]
  },
  {
   "cell_type": "markdown",
   "metadata": {},
   "source": [
    "- 4\n",
    "<img src=\"../Photo/10.png\"></img>"
   ]
  },
  {
   "cell_type": "code",
   "execution_count": 8,
   "metadata": {},
   "outputs": [
    {
     "name": "stdout",
     "output_type": "stream",
     "text": [
      "输入以千克计算的水量：55.5\n",
      "输入初始温度：3.5\n",
      "输入最终温度：10.5\n",
      "最后能力是 1625484.0\n"
     ]
    }
   ],
   "source": [
    "water=eval(input(\"输入以千克计算的水量：\"))\n",
    "tem_init=eval(input(\"输入初始温度：\"))\n",
    "tem_final=eval(input(\"输入最终温度：\"))\n",
    "Q=water*(tem_final-tem_init)*4184\n",
    "print(\"最后能力是\",Q)"
   ]
  },
  {
   "cell_type": "markdown",
   "metadata": {},
   "source": [
    "- 5\n",
    "<img src=\"../Photo/11.png\"></img>"
   ]
  },
  {
   "cell_type": "code",
   "execution_count": 9,
   "metadata": {},
   "outputs": [
    {
     "name": "stdout",
     "output_type": "stream",
     "text": [
      "Enrter balance:1000\n",
      "Enrter interest rate:3.5\n",
      "Ihe interest if 2.916666666666667\n"
     ]
    }
   ],
   "source": [
    "bal=eval(input(\"Enrter balance:\"))\n",
    "rate=eval(input(\"Enrter interest rate:\"))\n",
    "inter=bal*(rate/1200)\n",
    "print(\"Ihe interest if\",inter)"
   ]
  },
  {
   "cell_type": "markdown",
   "metadata": {},
   "source": [
    "- 6\n",
    "<img src=\"../Photo/12.png\"></img>"
   ]
  },
  {
   "cell_type": "code",
   "execution_count": 11,
   "metadata": {},
   "outputs": [
    {
     "name": "stdout",
     "output_type": "stream",
     "text": [
      "平均加速度为： 10.088888888888889\n"
     ]
    }
   ],
   "source": [
    "v1,v0,t=50.9,5.5,4.5\n",
    "a=(v1-v0)/t\n",
    "print(\"平均加速度为：\", a)"
   ]
  },
  {
   "cell_type": "code",
   "execution_count": null,
   "metadata": {},
   "outputs": [],
   "source": []
  },
  {
   "cell_type": "markdown",
   "metadata": {},
   "source": [
    "- 7 进阶\n",
    "<img src=\"../Photo/13.png\"></img>"
   ]
  },
  {
   "cell_type": "code",
   "execution_count": 12,
   "metadata": {},
   "outputs": [
    {
     "name": "stdout",
     "output_type": "stream",
     "text": [
      "sixth month: 608.8181155768638\n"
     ]
    }
   ],
   "source": [
    "a1 = 100 * ( 1 + 0.00417 )\n",
    "a2 = (100+a1) *(1+0.00417)\n",
    "a3 = (100+a2) *(1+0.00417)\n",
    "a4 = (100+a3) *(1+0.00417)\n",
    "a5 = (100+a4) *(1+0.00417)\n",
    "a6 = (100+a5) *(1+0.00417)\n",
    "print(\"sixth month:\",a6)"
   ]
  },
  {
   "cell_type": "markdown",
   "metadata": {},
   "source": [
    "- 8 进阶\n",
    "<img src=\"../Photo/14.png\"></img>"
   ]
  },
  {
   "cell_type": "code",
   "execution_count": 15,
   "metadata": {},
   "outputs": [
    {
     "name": "stdout",
     "output_type": "stream",
     "text": [
      "input a number between 0 and 1000:999\n",
      "27\n"
     ]
    }
   ],
   "source": [
    "s=0\n",
    "n=eval(input(\"input a number between 0 and 1000:\"))\n",
    "if n!=0:\n",
    "    while n!=0:\n",
    "    s=s+int(n%10)\n",
    "    n=int (n/10)\n",
    "print(s)\n"
   ]
  },
  {
   "cell_type": "code",
   "execution_count": null,
   "metadata": {},
   "outputs": [],
   "source": []
  }
 ],
 "metadata": {
  "kernelspec": {
   "display_name": "Python 3",
   "language": "python",
   "name": "python3"
  },
  "language_info": {
   "codemirror_mode": {
    "name": "ipython",
    "version": 3
   },
   "file_extension": ".py",
   "mimetype": "text/x-python",
   "name": "python",
   "nbconvert_exporter": "python",
   "pygments_lexer": "ipython3",
   "version": "3.6.4"
  }
 },
 "nbformat": 4,
 "nbformat_minor": 2
}

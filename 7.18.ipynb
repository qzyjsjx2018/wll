{
 "cells": [
  {
   "cell_type": "markdown",
   "metadata": {},
   "source": [
    "# 选择\n",
    "## 布尔类型、数值和表达式\n",
    "![](../Photo/33.png)\n",
    "- 注意：比较运算符的相等是两个等到，一个等到代表赋值\n",
    "- 在Python中可以用整型0来代表False，其他数字来代表True\n",
    "- 后面还会讲到 is 在判断语句中的用发"
   ]
  },
  {
   "cell_type": "markdown",
   "metadata": {},
   "source": []
  },
  {
   "cell_type": "markdown",
   "metadata": {},
   "source": [
    "## EP:\n",
    "- <img src=\"../Photo/34.png\"></img>\n",
    "- 输入一个数字，判断其实奇数还是偶数"
   ]
  },
  {
   "cell_type": "code",
   "execution_count": 8,
   "metadata": {},
   "outputs": [
    {
     "name": "stdout",
     "output_type": "stream",
     "text": [
      "输入一个数1\n",
      "奇数\n"
     ]
    }
   ],
   "source": [
    "i=eval(input(\"输入一个数\"))\n",
    "if  i%2==0:\n",
    "    print(\"偶数\")\n",
    "else :\n",
    "    print(\"奇数\")"
   ]
  },
  {
   "cell_type": "markdown",
   "metadata": {},
   "source": [
    "## 产生随机数字\n",
    "- 函数random.randint(a,b) 可以用来产生一个a和b之间且包括a和b的随机整数"
   ]
  },
  {
   "cell_type": "code",
   "execution_count": 10,
   "metadata": {},
   "outputs": [
    {
     "name": "stdout",
     "output_type": "stream",
     "text": [
      "10\n"
     ]
    }
   ],
   "source": [
    "import random\n",
    "a=random.randint(1,100)\n",
    "print(a)"
   ]
  },
  {
   "cell_type": "markdown",
   "metadata": {},
   "source": [
    "## EP：\n",
    "- 产生两个随机整数number1和number2，然后显示给用户，使用户输入数字，并判定其是否正确\n",
    "- 进阶:写一个随机序号点名程序"
   ]
  },
  {
   "cell_type": "code",
   "execution_count": 6,
   "metadata": {},
   "outputs": [
    {
     "name": "stdout",
     "output_type": "stream",
     "text": [
      "2018-07-18 10:56:38.542234 点名： 24\n"
     ]
    }
   ],
   "source": [
    "import datetime\n",
    "import random\n",
    "x=random.randint(0,3)\n",
    "y=random.randint(1,4)\n",
    "time1=datetime.datetime.now()\n",
    "print(time1,end=\" \")\n",
    "print(\"点名：\",str(x)+str(y))"
   ]
  },
  {
   "cell_type": "markdown",
   "metadata": {},
   "source": [
    "##  其他random方法\n",
    "- random.random 返回0.0到1.0之间前闭后开区间的随机浮点\n",
    "- random.randrange(a,b) 前闭后开"
   ]
  },
  {
   "cell_type": "code",
   "execution_count": 12,
   "metadata": {},
   "outputs": [
    {
     "name": "stdout",
     "output_type": "stream",
     "text": [
      "0.23966618370406545\n",
      "60\n"
     ]
    }
   ],
   "source": [
    "a2=random.random()\n",
    "print(a2)\n",
    "a3=random.randrange(start=0,stop=100,step=20)\n",
    "print(a3)"
   ]
  },
  {
   "cell_type": "markdown",
   "metadata": {},
   "source": [
    "## if语句\n",
    "- 如果条件正确就执行一个单向if语句，亦即当条件为真的时候才执行if内部的语句\n",
    "- Python有很多选择语句:\n",
    "> - 单向if \n",
    "  - 双向if-else\n",
    "  - 嵌套if\n",
    "  - 多向if-elif-else\n",
    "  \n",
    "- 注意：当语句含有子语句的时候，那么一定至少要有一个缩进，也就是说如果有儿子存在，那么一定要缩进\n",
    "- 切记不可table键和space混用，单用table 或者 space\n",
    "- 当你输出的结果是无论if是否为真时都需要显示时，语句应该与if对齐"
   ]
  },
  {
   "cell_type": "markdown",
   "metadata": {},
   "source": [
    "## EP：\n",
    "- 用户输入一个数字，判断其实奇数还是偶数\n",
    "- 进阶：可以查看下4.5实例研究猜生日"
   ]
  },
  {
   "cell_type": "markdown",
   "metadata": {},
   "source": [
    "## 双向if-else 语句\n",
    "- 如果条件为真，那么走if内部语句，否则走else内部语句"
   ]
  },
  {
   "cell_type": "markdown",
   "metadata": {},
   "source": [
    "加油包"
   ]
  },
  {
   "cell_type": "code",
   "execution_count": null,
   "metadata": {},
   "outputs": [],
   "source": [
    "import random\n",
    "a=random.randint(0,100)\n",
    "b=random.randint(0,5)\n"
   ]
  },
  {
   "cell_type": "markdown",
   "metadata": {},
   "source": [
    "## EP：\n",
    "- 产生两个随机整数number1和number2，然后显示给用户，使用户输入数字，并判定其是否正确,如果正确打印“you‘re correct”，否则打印正确答案"
   ]
  },
  {
   "cell_type": "markdown",
   "metadata": {},
   "source": [
    "## 嵌套if 和多向if-elif-else\n",
    "![](../Photo/35.png)"
   ]
  },
  {
   "cell_type": "markdown",
   "metadata": {},
   "source": [
    "## EP：\n",
    "- 提示用户输入一个年份，然后显示表示这一年的动物\n",
    "![](../Photo/36.png)\n",
    "- 计算身体质量指数的程序\n",
    "- BMI = 以千克为单位的体重除以以米为单位的身高\n",
    "![](../Photo/37.png)"
   ]
  },
  {
   "cell_type": "code",
   "execution_count": 16,
   "metadata": {},
   "outputs": [
    {
     "name": "stdout",
     "output_type": "stream",
     "text": [
      "Input year:1997\n",
      "1997 年是牛年\n"
     ]
    }
   ],
   "source": [
    "year=eval(input(\"Input year:\"))\n",
    "if year%12 == 0:\n",
    "    print(year,\"年是猴年\")\n",
    "elif year%12 == 1:\n",
    "    print(year,\"年是鸡年\")\n",
    "elif year%12 == 2:\n",
    "    print(year,\"年是狗年\")\n",
    "elif year%12 == 3:\n",
    "    print(year,\"年是猪年\")\n",
    "elif year%12 == 4:\n",
    "    print(year,\"年是鼠年\")\n",
    "elif year%12 == 5:\n",
    "    print(year,\"年是牛年\")\n",
    "elif year%12 == 6:\n",
    "    print(year,\"年是虎年\")\n",
    "elif year%12 == 7:\n",
    "    print(year,\"年是兔年\")\n",
    "elif year%12 == 8:\n",
    "    print(year,\"年是龙年\")\n",
    "elif year%12 == 9:\n",
    "    print(year,\"年是社年\")\n",
    "elif year%12 == 10:\n",
    "    print(year,\"年是马年\")\n",
    "else year%12 == 11:\n",
    "    print(year,\"年是羊年\")\n",
    "    "
   ]
  },
  {
   "cell_type": "markdown",
   "metadata": {},
   "source": [
    "## 逻辑运算符\n",
    "![](../Photo/38.png)"
   ]
  },
  {
   "cell_type": "markdown",
   "metadata": {},
   "source": [
    "![](../Photo/39.png)\n",
    "![](../Photo/40.png)"
   ]
  },
  {
   "cell_type": "markdown",
   "metadata": {},
   "source": [
    "## EP：\n",
    "- 判定闰年：一个年份如果能被4整除但不能被100整除，或者能被400整除，那么这个年份就是闰年\n",
    "- 提示用户输入一个年份，并返回是否是闰年\n",
    "- 提示用户输入一个数字，判断其是否为水仙花数"
   ]
  },
  {
   "cell_type": "code",
   "execution_count": 14,
   "metadata": {},
   "outputs": [
    {
     "name": "stdout",
     "output_type": "stream",
     "text": [
      "Input year:2001\n",
      "No\n"
     ]
    }
   ],
   "source": [
    "year=eval(input(\"Input year:\"))\n",
    "if  year%4==0 and year%100!=0 or year%400==0 :\n",
    "    print(\"Yes\")\n",
    "else :\n",
    "    print(\"No\")\n"
   ]
  },
  {
   "cell_type": "markdown",
   "metadata": {},
   "source": [
    "## 实例研究：彩票\n",
    "![](../Photo/41.png)"
   ]
  },
  {
   "cell_type": "code",
   "execution_count": 29,
   "metadata": {},
   "outputs": [
    {
     "name": "stdout",
     "output_type": "stream",
     "text": [
      "彩票是 72\n",
      "输入一个两位数12\n",
      "奖金1000\n"
     ]
    }
   ],
   "source": [
    "import random\n",
    "n=random.randint(10,99)\n",
    "print(\"彩票是\",n)\n",
    "x=n//10\n",
    "y=n%10\n",
    "num=eval(input(\"输入一个两位数\"))\n",
    "if num//10 == x and num%10 == y:\n",
    "    print(\"奖金10000\")\n",
    "elif num//10 == y and num%10 ==x:\n",
    "     print(\"奖金3000\")\n",
    "elif ( num//10 == x and num%10 != y) or ( num//10 == y and num%10 != x)or ( num%10 == x and num//10 != y)or (num%10 == y and num//10 != x):\n",
    "    print(\"奖金1000\")\n",
    "else :\n",
    "    print(\"奖金0\")\n",
    "\n"
   ]
  },
  {
   "cell_type": "markdown",
   "metadata": {},
   "source": [
    "# Homework\n",
    "- 1\n",
    "![](../Photo/42.png)"
   ]
  },
  {
   "cell_type": "markdown",
   "metadata": {},
   "source": [
    "- 2\n",
    "![](../Photo/43.png)"
   ]
  },
  {
   "cell_type": "markdown",
   "metadata": {},
   "source": [
    "- 3\n",
    "![](../Photo/44.png)"
   ]
  },
  {
   "cell_type": "code",
   "execution_count": 7,
   "metadata": {},
   "outputs": [
    {
     "name": "stdout",
     "output_type": "stream",
     "text": [
      "输入今天：0\n",
      "输入天数：31\n",
      "today is Sun  and future is 星期3\n"
     ]
    }
   ],
   "source": [
    "today=eval(input(\"输入今天：\"))\n",
    "num=eval(input(\"输入天数：\"))\n",
    "s=today+num\n",
    "if today==0:\n",
    "    x=\"Sun\"\n",
    "if today==1:\n",
    "    x=\"Mon\"\n",
    "if today==2:\n",
    "    x=\"Tue\"\n",
    "if today==3:\n",
    "    x=\"Won\"\n",
    "if today==4:\n",
    "    x=\"THu\"\n",
    "if today==5:\n",
    "    x=\"Fir\"\n",
    "if today==6:\n",
    "    x=\"Sat\"\n",
    "if s%7==0:\n",
    "    print(\"today is\",x,\" and future is\"\" 星期日\")\n",
    "elif s%7==1:\n",
    "    print(\"today is\",x,\" and future is\"\" 星期1\")\n",
    "elif s%7==2 :\n",
    "    print(\"today is\",x,\" and future is\"\" 星期2\")\n",
    "elif s%7==3:\n",
    "    print(\"today is\",x,\" and future is\"\" 星期3\")\n",
    "elif s%7==4:\n",
    "    print(\"today is\",x,\" and future is\"\" 星期4\")\n",
    "elif s%7==5:\n",
    "    print(\"today is\",x,\" and future is\" \" 星期5\")\n",
    "else :\n",
    "    print(\"today is\",x,\" and future is\"\" 星期6\")"
   ]
  },
  {
   "cell_type": "markdown",
   "metadata": {},
   "source": [
    "- 4\n",
    "![](../Photo/45.png)"
   ]
  },
  {
   "cell_type": "code",
   "execution_count": 31,
   "metadata": {},
   "outputs": [
    {
     "name": "stdout",
     "output_type": "stream",
     "text": [
      "input three numer：3,2,1\n",
      "1 2 3\n"
     ]
    }
   ],
   "source": [
    "a,b,c=eval(input(\"input three numer：\"))\n",
    "if a>b:\n",
    "    t=a\n",
    "    a=b\n",
    "    b=t\n",
    "if b>c:\n",
    "    t=b\n",
    "    b=c\n",
    "    c=t\n",
    "if a>b:\n",
    "    t=a\n",
    "    a=b\n",
    "    b=t\n",
    "print(a,b,c)"
   ]
  },
  {
   "cell_type": "markdown",
   "metadata": {},
   "source": [
    "- 5\n",
    "![](../Photo/46.png)"
   ]
  },
  {
   "cell_type": "code",
   "execution_count": 11,
   "metadata": {},
   "outputs": [
    {
     "name": "stdout",
     "output_type": "stream",
     "text": [
      "enter weight and price for package 1:50,24.59\n",
      "enter weight and price for package 2:25,11.99\n",
      "Package 2 has the better price.\n"
     ]
    }
   ],
   "source": [
    "weight1,price1=eval(input('enter weight and price for package 1:'))\n",
    "weight2,price2=eval(input('enter weight and price for package 2:'))\n",
    "pc1=price1/weight1\n",
    "pc2=price2/weight2\n",
    "if pc1<pc2:\n",
    "    print('Package 1 has the better price.')\n",
    "else:\n",
    "    print('Package 2 has the better price.')"
   ]
  },
  {
   "cell_type": "markdown",
   "metadata": {},
   "source": [
    "- 6\n",
    "![](../Photo/47.png)"
   ]
  },
  {
   "cell_type": "markdown",
   "metadata": {},
   "source": [
    "- 7\n",
    "![](../Photo/48.png)"
   ]
  },
  {
   "cell_type": "code",
   "execution_count": 13,
   "metadata": {},
   "outputs": [
    {
     "name": "stdout",
     "output_type": "stream",
     "text": [
      "请输入正面还是反面：正面\n",
      "你猜对了\n"
     ]
    }
   ],
   "source": [
    "import random\n",
    "caicezhi=input('请输入正面还是反面：')\n",
    "yinbi=random.randint(0,1)\n",
    "if caicezhi=='正面' and yinbi==1:\n",
    "    print(\"你猜对了\")\n",
    "else:\n",
    "    print('你猜错了')"
   ]
  },
  {
   "cell_type": "markdown",
   "metadata": {},
   "source": [
    "- 8\n",
    "![](../Photo/49.png)"
   ]
  },
  {
   "cell_type": "markdown",
   "metadata": {},
   "source": [
    "- 9\n",
    "![](../Photo/50.png)"
   ]
  },
  {
   "cell_type": "markdown",
   "metadata": {},
   "source": [
    "- 10\n",
    "![](../Photo/51.png)"
   ]
  },
  {
   "cell_type": "markdown",
   "metadata": {},
   "source": [
    "- 11\n",
    "![](../Photo/52.png)"
   ]
  },
  {
   "cell_type": "code",
   "execution_count": 15,
   "metadata": {},
   "outputs": [
    {
     "name": "stdout",
     "output_type": "stream",
     "text": [
      "Enter a three-digit integer:123\n",
      "123 is not a palindrome\n"
     ]
    }
   ],
   "source": [
    "num=eval(input('Enter a three-digit integer:'))\n",
    "if num%10==num//100:\n",
    "    print(num,'is a palindrome')\n",
    "else:\n",
    "    print(num,'is not a palindrome')"
   ]
  },
  {
   "cell_type": "markdown",
   "metadata": {},
   "source": [
    "- 12\n",
    "![](../Photo/53.png)"
   ]
  },
  {
   "cell_type": "code",
   "execution_count": 10,
   "metadata": {},
   "outputs": [
    {
     "name": "stdout",
     "output_type": "stream",
     "text": [
      "enter three edges:50,24,59\n",
      "The perimeter is  133\n"
     ]
    }
   ],
   "source": [
    "import math\n",
    "a,b,c=eval(input('enter three edges:'))\n",
    "if a+b>c and a+c>b and b+c>a and abs(a-b)<c and abs(a-c)<b and abs(b-c)<a:\n",
    "    print('The perimeter is ',a+b+c)\n",
    "else:\n",
    "    print('the data error!')\n"
   ]
  }
 ],
 "metadata": {
  "kernelspec": {
   "display_name": "Python 3",
   "language": "python",
   "name": "python3"
  }
 },
 "nbformat": 4,
 "nbformat_minor": 2
}

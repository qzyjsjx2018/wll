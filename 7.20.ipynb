{
 "cells": [
  {
   "cell_type": "markdown",
   "metadata": {},
   "source": [
    "# 函数\n",
    "\n",
    "- 函数可以用来定义可重复代码，组织和简化\n",
    "- 一般来说一个函数在实际开发中为一个小功能\n",
    "- 一个类为一个大功能\n",
    "- 同样函数的长度不要超过一屏"
   ]
  },
  {
   "cell_type": "code",
   "execution_count": null,
   "metadata": {},
   "outputs": [],
   "source": [
    "def Joeker():\n",
    "    print(\"hahahahahah\")"
   ]
  },
  {
   "cell_type": "code",
   "execution_count": 3,
   "metadata": {},
   "outputs": [
    {
     "name": "stdout",
     "output_type": "stream",
     "text": [
      "输入一个数：5\n",
      "125 25\n"
     ]
    }
   ],
   "source": [
    "def lifang():\n",
    "    '''这是一个返回立方的函数'''\n",
    "    x=eval(input(\"输入一个数：\"))\n",
    "    s=x**3\n",
    "   # print(s)\n",
    "    return s,x**2\n",
    "res1,res2=lifang()\n",
    "print(res1,res2)"
   ]
  },
  {
   "cell_type": "code",
   "execution_count": 5,
   "metadata": {},
   "outputs": [
    {
     "name": "stdout",
     "output_type": "stream",
     "text": [
      "QECP\n",
      "输入验证码YUIO\n",
      "wrong, try again:\n",
      "YUIO QECP\n"
     ]
    }
   ],
   "source": [
    "import random\n",
    "def YanZheng():\n",
    "    n=1\n",
    "    while 1:\n",
    "        a1=chr(random.randint(65,90))\n",
    "        a2=chr(random.randint(65,90))\n",
    "        a3=chr(random.randint(65,90))\n",
    "        a4=chr(random.randint(65,90))\n",
    "        num=a1+a2+a3+a4\n",
    "        print(num)\n",
    "        NUM= input(\"输入验证码\")\n",
    "        if NUM==num:\n",
    "            break\n",
    "        else:\n",
    "            if n==3:\n",
    "                print(\"输入已超3次\")\n",
    "                break\n",
    "            else:\n",
    "                print(\"wrong, try again:\")\n",
    "                n+=1\n",
    "        return NUM,num\n",
    "n2,n1=YanZheng()\n",
    "print(n2,n1)\n"
   ]
  },
  {
   "cell_type": "markdown",
   "metadata": {},
   "source": [
    "## 定义一个函数\n",
    "\n",
    "def function_name(list of parameters):\n",
    "    \n",
    "    do something\n",
    "![](../Photo/69.png)\n",
    "- 以前使用的random 或者range 或者print.. 其实都是函数或者类"
   ]
  },
  {
   "cell_type": "markdown",
   "metadata": {},
   "source": [
    "## 调用一个函数\n",
    "- functionName()\n",
    "- \"()\" 就代表调用"
   ]
  },
  {
   "cell_type": "markdown",
   "metadata": {},
   "source": [
    "![](../Photo/70.png)"
   ]
  },
  {
   "cell_type": "markdown",
   "metadata": {},
   "source": [
    "## 带返回值和不带返回值的函数\n",
    "- return 返回的内容\n",
    "- return 返回多个值\n",
    "- 一般情况下，在多个函数协同完成一个功能的时候，那么将会有返回值"
   ]
  },
  {
   "cell_type": "markdown",
   "metadata": {},
   "source": [
    "![](../Photo/71.png)\n",
    "\n",
    "- 当然也可以自定义返回None"
   ]
  },
  {
   "cell_type": "markdown",
   "metadata": {},
   "source": [
    "## EP：\n",
    "![](../Photo/72.png)"
   ]
  },
  {
   "cell_type": "code",
   "execution_count": 13,
   "metadata": {},
   "outputs": [
    {
     "name": "stdout",
     "output_type": "stream",
     "text": [
      "jishu 1\n",
      "oushu 2\n",
      "jishu 3\n",
      "oushu 4\n",
      "jishu 5\n",
      "oushu 6\n",
      "jishu 7\n",
      "oushu 8\n",
      "jishu 9\n",
      "oushu 10\n"
     ]
    }
   ],
   "source": [
    "def jishu():\n",
    "    for i in range(1,11,2):\n",
    "        print(\"jishu\",i)\n",
    "        oushu(i+1)  \n",
    "def oushu(j):\n",
    "    print(\"oushu\",j)\n",
    "jishu()\n"
   ]
  },
  {
   "cell_type": "code",
   "execution_count": 17,
   "metadata": {},
   "outputs": [
    {
     "name": "stdout",
     "output_type": "stream",
     "text": [
      "Regist your account：wll\n",
      "Regist your password：123\n",
      "Login your account：we\n",
      "Login your password：2345\n",
      "Error\n"
     ]
    }
   ],
   "source": [
    "def regist( ):\n",
    "    p1=input(\"Regist your account：\")\n",
    "    p2=input(\"Regist your password：\")\n",
    "    return p1,p2\n",
    "def login( ):\n",
    "    pp1=input(\"Login your account：\")\n",
    "    pp2=input(\"Login your password：\")\n",
    "    return pp1,pp2\n",
    "\n",
    "x1,x2=regist()\n",
    "y1,y2=login( )\n",
    "if x1==y1 and x2==y2:\n",
    "    print(\"login success\")\n",
    "else:\n",
    "    print(\"Error\")"
   ]
  },
  {
   "cell_type": "code",
   "execution_count": 59,
   "metadata": {},
   "outputs": [
    {
     "name": "stdout",
     "output_type": "stream",
     "text": [
      "Login your account：wll\n",
      "Login your password：123\n",
      "login success\n",
      "Logout!!!!!!!\n",
      "Login your account：wll\n",
      "Login your password：123\n",
      "该账户您已注销\n"
     ]
    }
   ],
   "source": [
    "acc=None\n",
    "pas=None\n",
    "x=1\n",
    "def regist(p1,p2):\n",
    "    global acc,pas\n",
    "    acc=p1\n",
    "    pas=p2\n",
    "\n",
    "def login(p1,p2):\n",
    "    if p1==acc and p2==pas and x==1:\n",
    "        print(\"login success\")\n",
    "    else:\n",
    "        if x==0:\n",
    "            print(\"该账户您已注销\")\n",
    "        else:\n",
    "            print(\"Error\")\n",
    "            \n",
    "def logout():\n",
    "    global x\n",
    "    x=0\n",
    "    print(\"Logout!!!!!!!\")\n",
    "    \n",
    "    \n",
    "def main():\n",
    "    regist(\"wll\",\"123\")\n",
    "    p1=input(\"Login your account：\")\n",
    "    p2=input(\"Login your password：\")\n",
    "    login(p1,p2)\n",
    "    logout()    \n",
    "    q1=input(\"Login your account：\")\n",
    "    q2=input(\"Login your password：\")\n",
    "    login(q1,q2)\n",
    "    \n",
    "main()"
   ]
  },
  {
   "cell_type": "code",
   "execution_count": 25,
   "metadata": {},
   "outputs": [],
   "source": [
    "import pymysql"
   ]
  },
  {
   "cell_type": "markdown",
   "metadata": {},
   "source": [
    "## 类型和关键字参数\n",
    "- 普通参数\n",
    "- 多个参数\n",
    "- 默认值参数\n",
    "- 不定长参数"
   ]
  },
  {
   "cell_type": "markdown",
   "metadata": {},
   "source": [
    "## 普通参数"
   ]
  },
  {
   "cell_type": "markdown",
   "metadata": {},
   "source": [
    "## 多个参数"
   ]
  },
  {
   "cell_type": "code",
   "execution_count": 26,
   "metadata": {},
   "outputs": [
    {
     "name": "stdout",
     "output_type": "stream",
     "text": [
      "1 2 3 4\n"
     ]
    }
   ],
   "source": [
    "def test(a,b,c,d=4):\n",
    "    print(a,b,c,d)\n",
    "    \n",
    "test(1,2,3)"
   ]
  },
  {
   "cell_type": "markdown",
   "metadata": {},
   "source": [
    "## 默认值参数"
   ]
  },
  {
   "cell_type": "markdown",
   "metadata": {},
   "source": [
    "## 强制命名"
   ]
  },
  {
   "cell_type": "code",
   "execution_count": 27,
   "metadata": {},
   "outputs": [
    {
     "name": "stdout",
     "output_type": "stream",
     "text": [
      "1 2 4 5\n"
     ]
    }
   ],
   "source": [
    "def test(a,b,*,c,d=4):\n",
    "    print(a,b,c,d)\n",
    "    \n",
    "test(1,2,c=4,d=5)"
   ]
  },
  {
   "cell_type": "markdown",
   "metadata": {},
   "source": [
    "## 不定长参数"
   ]
  },
  {
   "cell_type": "code",
   "execution_count": 33,
   "metadata": {},
   "outputs": [
    {
     "name": "stdout",
     "output_type": "stream",
     "text": [
      "(1, 2, 4, 5, 6, 7, 8, 6, 6, 5, 5)\n",
      "<class 'tuple'>\n"
     ]
    }
   ],
   "source": [
    "def test(*args):\n",
    "    print(args)\n",
    "    print(type(args))   #返回的类型是元组\n",
    "\n",
    "test(1,2,4,5,6,7,8,6,6,5,5)"
   ]
  },
  {
   "cell_type": "code",
   "execution_count": 34,
   "metadata": {},
   "outputs": [
    {
     "name": "stdout",
     "output_type": "stream",
     "text": [
      "{'a': 1, 'b': 2, 'c': 3, 'd': 4, 'e': 5}\n"
     ]
    }
   ],
   "source": [
    "def test2(** kwargs):\n",
    "    print(kwargs)\n",
    "test2(a=1,b=2,c=3,d=4,e=5)"
   ]
  },
  {
   "cell_type": "code",
   "execution_count": 40,
   "metadata": {},
   "outputs": [
    {
     "name": "stdout",
     "output_type": "stream",
     "text": [
      "{'host': '127.0.0.1', 'user': 'root'}\n"
     ]
    }
   ],
   "source": [
    "Config={\n",
    "    \"host\":\"127.0.0.1\",\n",
    "    \"user\":\"root\",\n",
    "}\n",
    "test2(**Config)"
   ]
  },
  {
   "cell_type": "code",
   "execution_count": 41,
   "metadata": {},
   "outputs": [
    {
     "name": "stdout",
     "output_type": "stream",
     "text": [
      "(1, 2, 3, 4, 5)\n",
      "{'a': 3, 'c': 4}\n"
     ]
    }
   ],
   "source": [
    "#实际用法\n",
    "def res(*args,**kwargs):\n",
    "    print(args)\n",
    "    print(kwargs)\n",
    "    \n",
    "res(1,2,3,4,5,a=3,c=4)"
   ]
  },
  {
   "cell_type": "markdown",
   "metadata": {},
   "source": [
    "## 变量的作用域\n",
    "- 局部变量 local\n",
    "- 全局变量 global\n",
    "- globals 函数返回一个全局变量的字典，包括所有导入的变量\n",
    "- locals() 函数会以字典类型返回当前位置的全部局部变量。"
   ]
  },
  {
   "cell_type": "code",
   "execution_count": 43,
   "metadata": {},
   "outputs": [],
   "source": [
    "Mist=0\n",
    "def test4():\n",
    "    global Mist\n",
    "    Mist+=100\n",
    "    print(Mist)\n",
    "    "
   ]
  },
  {
   "cell_type": "code",
   "execution_count": 44,
   "metadata": {},
   "outputs": [
    {
     "name": "stdout",
     "output_type": "stream",
     "text": [
      "100\n"
     ]
    }
   ],
   "source": [
    "test4()"
   ]
  },
  {
   "cell_type": "code",
   "execution_count": 42,
   "metadata": {},
   "outputs": [
    {
     "name": "stdout",
     "output_type": "stream",
     "text": [
      "[100]\n"
     ]
    }
   ],
   "source": [
    "Mist2=[]\n",
    "def test5():\n",
    "    Mist2.append(100)\n",
    "    print(Mist2)\n",
    "test5()"
   ]
  },
  {
   "cell_type": "code",
   "execution_count": 45,
   "metadata": {
    "collapsed": true
   },
   "outputs": [
    {
     "data": {
      "text/plain": [
       "{'Config': {'host': '127.0.0.1', 'user': 'root'},\n",
       " 'In': ['',\n",
       "  'def lifang():\\n    x=eval(input(\"输入一个数：\"))\\n    s=x**3\\n    print(s)\\n    \\nlifang()',\n",
       "  'def lifang():\\n    \\'\\'\\'这是一个返回立方的函数\\'\\'\\'\\n    x=eval(input(\"输入一个数：\"))\\n    s=x**3\\n   # print(s)\\n    return s\\nres=lifang()\\nprint(res)',\n",
       "  'def lifang():\\n    \\'\\'\\'这是一个返回立方的函数\\'\\'\\'\\n    x=eval(input(\"输入一个数：\"))\\n    s=x**3\\n   # print(s)\\n    return s,x**2\\nres1,res2=lifang()\\nprint(res1,res2)',\n",
       "  'import random\\ndef YanZheng():\\n    n=1\\n    while 1:\\n        a1=chr(random.randint(65,90))\\n        a2=chr(random.randint(65,90))\\n        a3=chr(random.randint(65,90))\\n        a4=chr(random.randint(65,90))\\n        num=a1+a2+a3+a4\\n        print(num)\\n        NUM= input(\"输入验证码\")\\n        if NUM==num:\\n            break\\n        else:\\n            if n==3:\\n                print(\"输入已超3次\")\\n                break\\n            else:\\n                print(\"wrong, try again:\")\\n                n+=1\\n         return NUM,num\\nn2,n1=YanZheng()\\nprint(n2,n1)',\n",
       "  'import random\\ndef YanZheng():\\n    n=1\\n    while 1:\\n        a1=chr(random.randint(65,90))\\n        a2=chr(random.randint(65,90))\\n        a3=chr(random.randint(65,90))\\n        a4=chr(random.randint(65,90))\\n        num=a1+a2+a3+a4\\n        print(num)\\n        NUM= input(\"输入验证码\")\\n        if NUM==num:\\n            break\\n        else:\\n            if n==3:\\n                print(\"输入已超3次\")\\n                break\\n            else:\\n                print(\"wrong, try again:\")\\n                n+=1\\n        return NUM,num\\nn2,n1=YanZheng()\\nprint(n2,n1)',\n",
       "  'def Jishu1():\\n    Oushu2()\\ndef Jishu3():\\n    Oushu4()\\ndef Jishu5():\\n    Oushu6()\\ndef Jishu7():\\n    Oushu8()\\ndef Jishu9():\\n    Oushu10()\\ndef Oushu10():\\n    print(\"Oushu10\")\\nJishu1()',\n",
       "  'def Jishu1():\\n    Oushu2()\\ndef Oushu2():\\n    Jishu3()\\ndef Jishu3():\\n    Oushu4()\\ndef Oushu4():\\n    Jishu5()\\ndef Jishu5():\\n    Oushu6()\\ndef Oushu6():\\n    Jishu7()\\ndef Jishu7():\\n    Oushu8()\\ndef Oushu8():\\n    Jishu9()\\ndef Jishu9():\\n    Oushu10()\\ndef Oushu10():\\n    print(\"Oushu10\")\\nJishu1()',\n",
       "  'def Jishu1():\\n    Oushu2()\\ndef Oushu2():\\n    Jishu3()\\ndef Jishu3():\\n    Oushu4()\\ndef Oushu4():\\n    Jishu5()\\n    print(\"4\")\\ndef Jishu5():\\n    Oushu6()\\n    print(\"5\")\\ndef Oushu6():\\n    Jishu7()\\n    print(\"6\")\\ndef Jishu7():\\n    Oushu8()\\n    print(\"7\")\\ndef Oushu8():\\n    Jishu9()\\n    print(\"8\")\\ndef Jishu9():\\n    Oushu10()\\n    print(\"9\")\\ndef Oushu10():\\n    print(\"Oushu10\")\\nJishu1()',\n",
       "  'def jishu():\\ndef oushu():\\nfor i in range(11):\\n    print()',\n",
       "  'def jishu():\\n    for i in range(11):\\n        print(\"def jishu\",i)\\n        oushu(i+2)  \\ndef oushu(j):\\n    print(\"oushu\",j)\\njishu()',\n",
       "  'def jishu():\\n    for i in range(1,11):\\n        print(\"jishu\",i)\\n        oushu(i+2)  \\ndef oushu(j):\\n    print(\"oushu\",j)\\njishu()',\n",
       "  'def jishu():\\n    for i in range(1,11):\\n        print(\"jishu\",i)\\n        oushu(i+1)  \\ndef oushu(j):\\n    print(\"oushu\",j)\\njishu()',\n",
       "  'def jishu():\\n    for i in range(1,11,2):\\n        print(\"jishu\",i)\\n        oushu(i+1)  \\ndef oushu(j):\\n    print(\"oushu\",j)\\njishu()',\n",
       "  'account=none',\n",
       "  'def regist( ):\\n    p1=input(\"Regist your account：\")\\n    p2=input(\"Regist your password：\")\\n    return p1,p2\\ndef login( ):\\n    pp1=input(\"Login your account：\")\\n    pp2=input(\"Login your password：\")\\n    return pp1,pp2\\nx1,x2=regist()\\ny1,y2=login( )\\nif x1==y1 and x2==y2:\\n    print(\"login success\")\\nelse\\n    print(\"Error\")',\n",
       "  'def regist( ):\\n    p1=input(\"Regist your account：\")\\n    p2=input(\"Regist your password：\")\\n    return p1,p2\\ndef login( ):\\n    pp1=input(\"Login your account：\")\\n    pp2=input(\"Login your password：\")\\n    return pp1,pp2\\nx1,x2=regist()\\ny1,y2=login( )\\nif x1==y1 and x2==y2:\\n    print(\"login success\")\\nelse:\\n    print(\"Error\")',\n",
       "  'def regist( ):\\n    p1=input(\"Regist your account：\")\\n    p2=input(\"Regist your password：\")\\n    return p1,p2\\ndef login( ):\\n    pp1=input(\"Login your account：\")\\n    pp2=input(\"Login your password：\")\\n    return pp1,pp2\\nx1,x2=regist()\\ny1,y2=login( )\\nif x1==y1 and x2==y2:\\n    print(\"login success\")\\nelse:\\n    print(\"Error\")',\n",
       "  'acc=\"\"\\npas=\"\"\\ndef regist(p1,p2):\\n    acc=p1\\n    pas=p2\\n\\ndef login(p1,p2):\\n    if p1==acc and p2==pas:\\n        print(\"login success\")\\n    else:\\n        print(\"Error\")\\n        \\ndef main():\\n    regist(\"wll\",\"123\")\\n    p1=input(\"Login your account：\")\\n    p2=input(\"Login your password：\")\\n    login(p1,p2)\\n    \\nmain()',\n",
       "  'def regist(p1,p2):\\n    global acc,pas=\"\",\"\"\\n    acc=p1\\n    pas=p2\\n\\ndef login(p1,p2):\\n    if p1==acc and p2==pas:\\n        print(\"login success\")\\n    else:\\n        print(\"Error\")\\n        \\ndef main():\\n    regist(\"wll\",\"123\")\\n    p1=input(\"Login your account：\")\\n    p2=input(\"Login your password：\")\\n    login(p1,p2)\\n    \\nmain()',\n",
       "  'def regist(p1,p2):\\n    global acc,pas\\n    acc=p1\\n    pas=p2\\n\\ndef login(p1,p2):\\n    if p1==acc and p2==pas:\\n        print(\"login success\")\\n    else:\\n        print(\"Error\")\\n        \\ndef main():\\n    regist(\"wll\",\"123\")\\n    p1=input(\"Login your account：\")\\n    p2=input(\"Login your password：\")\\n    login(p1,p2)\\n    \\nmain()',\n",
       "  'import pymysql',\n",
       "  'import Pymysql',\n",
       "  'import Pymysql',\n",
       "  'import Pymysql',\n",
       "  'import pymysql',\n",
       "  'def test(a,b,c,d=4):\\n    print(a,b,c,d)\\n    \\ntest(1,2,3)',\n",
       "  'def test(a,b,*,c,d=4):\\n    print(a,b,c,d)\\n    \\ntest(1,2,c=4,d=5)',\n",
       "  'def test(*args):\\n    print(args)\\n\\ntest(1,2,4,5,6,7,8,6,6,5,5)',\n",
       "  'def test(*args):\\n    print(args)\\n    print(type(args))\\n\\ntest(1,2,4,5,6,7,8,6,6,5,5)',\n",
       "  'def test(*Joker):\\n    print(args)\\n    print(type(args))\\n\\ntest(1,2,4,5,6,7,8,6,6,5,5)',\n",
       "  'def test(*Joker):\\n    print(Joker)\\n    print(type(Joker))\\n\\ntest(1,2,4,5,6,7,8,6,6,5,5)',\n",
       "  'def test(*Joker):\\n    print(Joker)\\n    print(type(Joker))   #返回的类型是元组\\n\\ntest(1,2,4,5,6,7,8,6,6,5,5)',\n",
       "  'def test(*args):\\n    print(args)\\n    print(type(args))   #返回的类型是元组\\n\\ntest(1,2,4,5,6,7,8,6,6,5,5)',\n",
       "  'def test2(** kwargs):\\n    print(kwargs)\\ntest2(a=1,b=2,c=3,d=4,e=5)',\n",
       "  'Config={\\n    \"host\":\"127.0.0.1\"\\n    \"user\":\\'root\\'\\n}\\ntest2(**Config)',\n",
       "  'Config={\\n    \"host\":\"127.0.0.1\"\\n    \"user\":\\'root\\'\\n}\\ntest2(**Config)',\n",
       "  'Config={\\n    \"host\":\"127.0.0.1\"\\n    \"user\":\\'root\\'\\n}\\ntest2(**Config)',\n",
       "  'Config={\\n    \"host\":\"127.0.0.1\"\\n    \"user\":\"root\"\\n}\\ntest2(**Config)',\n",
       "  'Config={\\n    \"host\":\"127.0.0.1\"\\n    \"user\":\"root\"\\n}\\ntest2(**Config)',\n",
       "  'Config={\\n    \"host\":\"127.0.0.1\",\\n    \"user\":\"root\",\\n}\\ntest2(**Config)',\n",
       "  '#实际用法\\ndef res(*args,**kwargs):\\n    print(args)\\n    print(kwargs)\\n    \\nres(1,2,3,4,5,a=3,c=4)',\n",
       "  'Mist2=[]\\ndef test5():\\n    Mist2.append(100)\\n    print(Mist2)\\ntest5()',\n",
       "  'Mist=0\\ndef test4():\\n    global Mist\\n    Mist+=100\\n    print(Mist)\\n    ',\n",
       "  'test4()',\n",
       "  'globals()'],\n",
       " 'Jishu1': <function __main__.Jishu1>,\n",
       " 'Jishu3': <function __main__.Jishu3>,\n",
       " 'Jishu5': <function __main__.Jishu5>,\n",
       " 'Jishu7': <function __main__.Jishu7>,\n",
       " 'Jishu9': <function __main__.Jishu9>,\n",
       " 'Mist': 100,\n",
       " 'Mist2': [100],\n",
       " 'Oushu10': <function __main__.Oushu10>,\n",
       " 'Oushu2': <function __main__.Oushu2>,\n",
       " 'Oushu4': <function __main__.Oushu4>,\n",
       " 'Oushu6': <function __main__.Oushu6>,\n",
       " 'Oushu8': <function __main__.Oushu8>,\n",
       " 'Out': {},\n",
       " 'YanZheng': <function __main__.YanZheng>,\n",
       " '_': '',\n",
       " '__': '',\n",
       " '___': '',\n",
       " '__builtin__': <module 'builtins' (built-in)>,\n",
       " '__builtins__': <module 'builtins' (built-in)>,\n",
       " '__doc__': 'Automatically created module for IPython interactive environment',\n",
       " '__loader__': None,\n",
       " '__name__': '__main__',\n",
       " '__package__': None,\n",
       " '__spec__': None,\n",
       " '_dh': ['C:\\\\Users\\\\Administrator\\\\Desktop\\\\zxd\\\\doc_all\\\\Teacher\\\\Python基础'],\n",
       " '_i': 'test4()',\n",
       " '_i1': 'def lifang():\\n    x=eval(input(\"输入一个数：\"))\\n    s=x**3\\n    print(s)\\n    \\nlifang()',\n",
       " '_i10': 'def jishu():\\n    for i in range(11):\\n        print(\"def jishu\",i)\\n        oushu(i+2)  \\ndef oushu(j):\\n    print(\"oushu\",j)\\njishu()',\n",
       " '_i11': 'def jishu():\\n    for i in range(1,11):\\n        print(\"jishu\",i)\\n        oushu(i+2)  \\ndef oushu(j):\\n    print(\"oushu\",j)\\njishu()',\n",
       " '_i12': 'def jishu():\\n    for i in range(1,11):\\n        print(\"jishu\",i)\\n        oushu(i+1)  \\ndef oushu(j):\\n    print(\"oushu\",j)\\njishu()',\n",
       " '_i13': 'def jishu():\\n    for i in range(1,11,2):\\n        print(\"jishu\",i)\\n        oushu(i+1)  \\ndef oushu(j):\\n    print(\"oushu\",j)\\njishu()',\n",
       " '_i14': 'account=none',\n",
       " '_i15': 'def regist( ):\\n    p1=input(\"Regist your account：\")\\n    p2=input(\"Regist your password：\")\\n    return p1,p2\\ndef login( ):\\n    pp1=input(\"Login your account：\")\\n    pp2=input(\"Login your password：\")\\n    return pp1,pp2\\nx1,x2=regist()\\ny1,y2=login( )\\nif x1==y1 and x2==y2:\\n    print(\"login success\")\\nelse\\n    print(\"Error\")',\n",
       " '_i16': 'def regist( ):\\n    p1=input(\"Regist your account：\")\\n    p2=input(\"Regist your password：\")\\n    return p1,p2\\ndef login( ):\\n    pp1=input(\"Login your account：\")\\n    pp2=input(\"Login your password：\")\\n    return pp1,pp2\\nx1,x2=regist()\\ny1,y2=login( )\\nif x1==y1 and x2==y2:\\n    print(\"login success\")\\nelse:\\n    print(\"Error\")',\n",
       " '_i17': 'def regist( ):\\n    p1=input(\"Regist your account：\")\\n    p2=input(\"Regist your password：\")\\n    return p1,p2\\ndef login( ):\\n    pp1=input(\"Login your account：\")\\n    pp2=input(\"Login your password：\")\\n    return pp1,pp2\\nx1,x2=regist()\\ny1,y2=login( )\\nif x1==y1 and x2==y2:\\n    print(\"login success\")\\nelse:\\n    print(\"Error\")',\n",
       " '_i18': 'acc=\"\"\\npas=\"\"\\ndef regist(p1,p2):\\n    acc=p1\\n    pas=p2\\n\\ndef login(p1,p2):\\n    if p1==acc and p2==pas:\\n        print(\"login success\")\\n    else:\\n        print(\"Error\")\\n        \\ndef main():\\n    regist(\"wll\",\"123\")\\n    p1=input(\"Login your account：\")\\n    p2=input(\"Login your password：\")\\n    login(p1,p2)\\n    \\nmain()',\n",
       " '_i19': 'def regist(p1,p2):\\n    global acc,pas=\"\",\"\"\\n    acc=p1\\n    pas=p2\\n\\ndef login(p1,p2):\\n    if p1==acc and p2==pas:\\n        print(\"login success\")\\n    else:\\n        print(\"Error\")\\n        \\ndef main():\\n    regist(\"wll\",\"123\")\\n    p1=input(\"Login your account：\")\\n    p2=input(\"Login your password：\")\\n    login(p1,p2)\\n    \\nmain()',\n",
       " '_i2': 'def lifang():\\n    \\'\\'\\'这是一个返回立方的函数\\'\\'\\'\\n    x=eval(input(\"输入一个数：\"))\\n    s=x**3\\n   # print(s)\\n    return s\\nres=lifang()\\nprint(res)',\n",
       " '_i20': 'def regist(p1,p2):\\n    global acc,pas\\n    acc=p1\\n    pas=p2\\n\\ndef login(p1,p2):\\n    if p1==acc and p2==pas:\\n        print(\"login success\")\\n    else:\\n        print(\"Error\")\\n        \\ndef main():\\n    regist(\"wll\",\"123\")\\n    p1=input(\"Login your account：\")\\n    p2=input(\"Login your password：\")\\n    login(p1,p2)\\n    \\nmain()',\n",
       " '_i21': 'import pymysql',\n",
       " '_i22': 'import Pymysql',\n",
       " '_i23': 'import Pymysql',\n",
       " '_i24': 'import Pymysql',\n",
       " '_i25': 'import pymysql',\n",
       " '_i26': 'def test(a,b,c,d=4):\\n    print(a,b,c,d)\\n    \\ntest(1,2,3)',\n",
       " '_i27': 'def test(a,b,*,c,d=4):\\n    print(a,b,c,d)\\n    \\ntest(1,2,c=4,d=5)',\n",
       " '_i28': 'def test(*args):\\n    print(args)\\n\\ntest(1,2,4,5,6,7,8,6,6,5,5)',\n",
       " '_i29': 'def test(*args):\\n    print(args)\\n    print(type(args))\\n\\ntest(1,2,4,5,6,7,8,6,6,5,5)',\n",
       " '_i3': 'def lifang():\\n    \\'\\'\\'这是一个返回立方的函数\\'\\'\\'\\n    x=eval(input(\"输入一个数：\"))\\n    s=x**3\\n   # print(s)\\n    return s,x**2\\nres1,res2=lifang()\\nprint(res1,res2)',\n",
       " '_i30': 'def test(*Joker):\\n    print(args)\\n    print(type(args))\\n\\ntest(1,2,4,5,6,7,8,6,6,5,5)',\n",
       " '_i31': 'def test(*Joker):\\n    print(Joker)\\n    print(type(Joker))\\n\\ntest(1,2,4,5,6,7,8,6,6,5,5)',\n",
       " '_i32': 'def test(*Joker):\\n    print(Joker)\\n    print(type(Joker))   #返回的类型是元组\\n\\ntest(1,2,4,5,6,7,8,6,6,5,5)',\n",
       " '_i33': 'def test(*args):\\n    print(args)\\n    print(type(args))   #返回的类型是元组\\n\\ntest(1,2,4,5,6,7,8,6,6,5,5)',\n",
       " '_i34': 'def test2(** kwargs):\\n    print(kwargs)\\ntest2(a=1,b=2,c=3,d=4,e=5)',\n",
       " '_i35': 'Config={\\n    \"host\":\"127.0.0.1\"\\n    \"user\":\\'root\\'\\n}\\ntest2(**Config)',\n",
       " '_i36': 'Config={\\n    \"host\":\"127.0.0.1\"\\n    \"user\":\\'root\\'\\n}\\ntest2(**Config)',\n",
       " '_i37': 'Config={\\n    \"host\":\"127.0.0.1\"\\n    \"user\":\\'root\\'\\n}\\ntest2(**Config)',\n",
       " '_i38': 'Config={\\n    \"host\":\"127.0.0.1\"\\n    \"user\":\"root\"\\n}\\ntest2(**Config)',\n",
       " '_i39': 'Config={\\n    \"host\":\"127.0.0.1\"\\n    \"user\":\"root\"\\n}\\ntest2(**Config)',\n",
       " '_i4': 'import random\\ndef YanZheng():\\n    n=1\\n    while 1:\\n        a1=chr(random.randint(65,90))\\n        a2=chr(random.randint(65,90))\\n        a3=chr(random.randint(65,90))\\n        a4=chr(random.randint(65,90))\\n        num=a1+a2+a3+a4\\n        print(num)\\n        NUM= input(\"输入验证码\")\\n        if NUM==num:\\n            break\\n        else:\\n            if n==3:\\n                print(\"输入已超3次\")\\n                break\\n            else:\\n                print(\"wrong, try again:\")\\n                n+=1\\n         return NUM,num\\nn2,n1=YanZheng()\\nprint(n2,n1)',\n",
       " '_i40': 'Config={\\n    \"host\":\"127.0.0.1\",\\n    \"user\":\"root\",\\n}\\ntest2(**Config)',\n",
       " '_i41': '#实际用法\\ndef res(*args,**kwargs):\\n    print(args)\\n    print(kwargs)\\n    \\nres(1,2,3,4,5,a=3,c=4)',\n",
       " '_i42': 'Mist2=[]\\ndef test5():\\n    Mist2.append(100)\\n    print(Mist2)\\ntest5()',\n",
       " '_i43': 'Mist=0\\ndef test4():\\n    global Mist\\n    Mist+=100\\n    print(Mist)\\n    ',\n",
       " '_i44': 'test4()',\n",
       " '_i45': 'globals()',\n",
       " '_i5': 'import random\\ndef YanZheng():\\n    n=1\\n    while 1:\\n        a1=chr(random.randint(65,90))\\n        a2=chr(random.randint(65,90))\\n        a3=chr(random.randint(65,90))\\n        a4=chr(random.randint(65,90))\\n        num=a1+a2+a3+a4\\n        print(num)\\n        NUM= input(\"输入验证码\")\\n        if NUM==num:\\n            break\\n        else:\\n            if n==3:\\n                print(\"输入已超3次\")\\n                break\\n            else:\\n                print(\"wrong, try again:\")\\n                n+=1\\n        return NUM,num\\nn2,n1=YanZheng()\\nprint(n2,n1)',\n",
       " '_i6': 'def Jishu1():\\n    Oushu2()\\ndef Jishu3():\\n    Oushu4()\\ndef Jishu5():\\n    Oushu6()\\ndef Jishu7():\\n    Oushu8()\\ndef Jishu9():\\n    Oushu10()\\ndef Oushu10():\\n    print(\"Oushu10\")\\nJishu1()',\n",
       " '_i7': 'def Jishu1():\\n    Oushu2()\\ndef Oushu2():\\n    Jishu3()\\ndef Jishu3():\\n    Oushu4()\\ndef Oushu4():\\n    Jishu5()\\ndef Jishu5():\\n    Oushu6()\\ndef Oushu6():\\n    Jishu7()\\ndef Jishu7():\\n    Oushu8()\\ndef Oushu8():\\n    Jishu9()\\ndef Jishu9():\\n    Oushu10()\\ndef Oushu10():\\n    print(\"Oushu10\")\\nJishu1()',\n",
       " '_i8': 'def Jishu1():\\n    Oushu2()\\ndef Oushu2():\\n    Jishu3()\\ndef Jishu3():\\n    Oushu4()\\ndef Oushu4():\\n    Jishu5()\\n    print(\"4\")\\ndef Jishu5():\\n    Oushu6()\\n    print(\"5\")\\ndef Oushu6():\\n    Jishu7()\\n    print(\"6\")\\ndef Jishu7():\\n    Oushu8()\\n    print(\"7\")\\ndef Oushu8():\\n    Jishu9()\\n    print(\"8\")\\ndef Jishu9():\\n    Oushu10()\\n    print(\"9\")\\ndef Oushu10():\\n    print(\"Oushu10\")\\nJishu1()',\n",
       " '_i9': 'def jishu():\\ndef oushu():\\nfor i in range(11):\\n    print()',\n",
       " '_ih': ['',\n",
       "  'def lifang():\\n    x=eval(input(\"输入一个数：\"))\\n    s=x**3\\n    print(s)\\n    \\nlifang()',\n",
       "  'def lifang():\\n    \\'\\'\\'这是一个返回立方的函数\\'\\'\\'\\n    x=eval(input(\"输入一个数：\"))\\n    s=x**3\\n   # print(s)\\n    return s\\nres=lifang()\\nprint(res)',\n",
       "  'def lifang():\\n    \\'\\'\\'这是一个返回立方的函数\\'\\'\\'\\n    x=eval(input(\"输入一个数：\"))\\n    s=x**3\\n   # print(s)\\n    return s,x**2\\nres1,res2=lifang()\\nprint(res1,res2)',\n",
       "  'import random\\ndef YanZheng():\\n    n=1\\n    while 1:\\n        a1=chr(random.randint(65,90))\\n        a2=chr(random.randint(65,90))\\n        a3=chr(random.randint(65,90))\\n        a4=chr(random.randint(65,90))\\n        num=a1+a2+a3+a4\\n        print(num)\\n        NUM= input(\"输入验证码\")\\n        if NUM==num:\\n            break\\n        else:\\n            if n==3:\\n                print(\"输入已超3次\")\\n                break\\n            else:\\n                print(\"wrong, try again:\")\\n                n+=1\\n         return NUM,num\\nn2,n1=YanZheng()\\nprint(n2,n1)',\n",
       "  'import random\\ndef YanZheng():\\n    n=1\\n    while 1:\\n        a1=chr(random.randint(65,90))\\n        a2=chr(random.randint(65,90))\\n        a3=chr(random.randint(65,90))\\n        a4=chr(random.randint(65,90))\\n        num=a1+a2+a3+a4\\n        print(num)\\n        NUM= input(\"输入验证码\")\\n        if NUM==num:\\n            break\\n        else:\\n            if n==3:\\n                print(\"输入已超3次\")\\n                break\\n            else:\\n                print(\"wrong, try again:\")\\n                n+=1\\n        return NUM,num\\nn2,n1=YanZheng()\\nprint(n2,n1)',\n",
       "  'def Jishu1():\\n    Oushu2()\\ndef Jishu3():\\n    Oushu4()\\ndef Jishu5():\\n    Oushu6()\\ndef Jishu7():\\n    Oushu8()\\ndef Jishu9():\\n    Oushu10()\\ndef Oushu10():\\n    print(\"Oushu10\")\\nJishu1()',\n",
       "  'def Jishu1():\\n    Oushu2()\\ndef Oushu2():\\n    Jishu3()\\ndef Jishu3():\\n    Oushu4()\\ndef Oushu4():\\n    Jishu5()\\ndef Jishu5():\\n    Oushu6()\\ndef Oushu6():\\n    Jishu7()\\ndef Jishu7():\\n    Oushu8()\\ndef Oushu8():\\n    Jishu9()\\ndef Jishu9():\\n    Oushu10()\\ndef Oushu10():\\n    print(\"Oushu10\")\\nJishu1()',\n",
       "  'def Jishu1():\\n    Oushu2()\\ndef Oushu2():\\n    Jishu3()\\ndef Jishu3():\\n    Oushu4()\\ndef Oushu4():\\n    Jishu5()\\n    print(\"4\")\\ndef Jishu5():\\n    Oushu6()\\n    print(\"5\")\\ndef Oushu6():\\n    Jishu7()\\n    print(\"6\")\\ndef Jishu7():\\n    Oushu8()\\n    print(\"7\")\\ndef Oushu8():\\n    Jishu9()\\n    print(\"8\")\\ndef Jishu9():\\n    Oushu10()\\n    print(\"9\")\\ndef Oushu10():\\n    print(\"Oushu10\")\\nJishu1()',\n",
       "  'def jishu():\\ndef oushu():\\nfor i in range(11):\\n    print()',\n",
       "  'def jishu():\\n    for i in range(11):\\n        print(\"def jishu\",i)\\n        oushu(i+2)  \\ndef oushu(j):\\n    print(\"oushu\",j)\\njishu()',\n",
       "  'def jishu():\\n    for i in range(1,11):\\n        print(\"jishu\",i)\\n        oushu(i+2)  \\ndef oushu(j):\\n    print(\"oushu\",j)\\njishu()',\n",
       "  'def jishu():\\n    for i in range(1,11):\\n        print(\"jishu\",i)\\n        oushu(i+1)  \\ndef oushu(j):\\n    print(\"oushu\",j)\\njishu()',\n",
       "  'def jishu():\\n    for i in range(1,11,2):\\n        print(\"jishu\",i)\\n        oushu(i+1)  \\ndef oushu(j):\\n    print(\"oushu\",j)\\njishu()',\n",
       "  'account=none',\n",
       "  'def regist( ):\\n    p1=input(\"Regist your account：\")\\n    p2=input(\"Regist your password：\")\\n    return p1,p2\\ndef login( ):\\n    pp1=input(\"Login your account：\")\\n    pp2=input(\"Login your password：\")\\n    return pp1,pp2\\nx1,x2=regist()\\ny1,y2=login( )\\nif x1==y1 and x2==y2:\\n    print(\"login success\")\\nelse\\n    print(\"Error\")',\n",
       "  'def regist( ):\\n    p1=input(\"Regist your account：\")\\n    p2=input(\"Regist your password：\")\\n    return p1,p2\\ndef login( ):\\n    pp1=input(\"Login your account：\")\\n    pp2=input(\"Login your password：\")\\n    return pp1,pp2\\nx1,x2=regist()\\ny1,y2=login( )\\nif x1==y1 and x2==y2:\\n    print(\"login success\")\\nelse:\\n    print(\"Error\")',\n",
       "  'def regist( ):\\n    p1=input(\"Regist your account：\")\\n    p2=input(\"Regist your password：\")\\n    return p1,p2\\ndef login( ):\\n    pp1=input(\"Login your account：\")\\n    pp2=input(\"Login your password：\")\\n    return pp1,pp2\\nx1,x2=regist()\\ny1,y2=login( )\\nif x1==y1 and x2==y2:\\n    print(\"login success\")\\nelse:\\n    print(\"Error\")',\n",
       "  'acc=\"\"\\npas=\"\"\\ndef regist(p1,p2):\\n    acc=p1\\n    pas=p2\\n\\ndef login(p1,p2):\\n    if p1==acc and p2==pas:\\n        print(\"login success\")\\n    else:\\n        print(\"Error\")\\n        \\ndef main():\\n    regist(\"wll\",\"123\")\\n    p1=input(\"Login your account：\")\\n    p2=input(\"Login your password：\")\\n    login(p1,p2)\\n    \\nmain()',\n",
       "  'def regist(p1,p2):\\n    global acc,pas=\"\",\"\"\\n    acc=p1\\n    pas=p2\\n\\ndef login(p1,p2):\\n    if p1==acc and p2==pas:\\n        print(\"login success\")\\n    else:\\n        print(\"Error\")\\n        \\ndef main():\\n    regist(\"wll\",\"123\")\\n    p1=input(\"Login your account：\")\\n    p2=input(\"Login your password：\")\\n    login(p1,p2)\\n    \\nmain()',\n",
       "  'def regist(p1,p2):\\n    global acc,pas\\n    acc=p1\\n    pas=p2\\n\\ndef login(p1,p2):\\n    if p1==acc and p2==pas:\\n        print(\"login success\")\\n    else:\\n        print(\"Error\")\\n        \\ndef main():\\n    regist(\"wll\",\"123\")\\n    p1=input(\"Login your account：\")\\n    p2=input(\"Login your password：\")\\n    login(p1,p2)\\n    \\nmain()',\n",
       "  'import pymysql',\n",
       "  'import Pymysql',\n",
       "  'import Pymysql',\n",
       "  'import Pymysql',\n",
       "  'import pymysql',\n",
       "  'def test(a,b,c,d=4):\\n    print(a,b,c,d)\\n    \\ntest(1,2,3)',\n",
       "  'def test(a,b,*,c,d=4):\\n    print(a,b,c,d)\\n    \\ntest(1,2,c=4,d=5)',\n",
       "  'def test(*args):\\n    print(args)\\n\\ntest(1,2,4,5,6,7,8,6,6,5,5)',\n",
       "  'def test(*args):\\n    print(args)\\n    print(type(args))\\n\\ntest(1,2,4,5,6,7,8,6,6,5,5)',\n",
       "  'def test(*Joker):\\n    print(args)\\n    print(type(args))\\n\\ntest(1,2,4,5,6,7,8,6,6,5,5)',\n",
       "  'def test(*Joker):\\n    print(Joker)\\n    print(type(Joker))\\n\\ntest(1,2,4,5,6,7,8,6,6,5,5)',\n",
       "  'def test(*Joker):\\n    print(Joker)\\n    print(type(Joker))   #返回的类型是元组\\n\\ntest(1,2,4,5,6,7,8,6,6,5,5)',\n",
       "  'def test(*args):\\n    print(args)\\n    print(type(args))   #返回的类型是元组\\n\\ntest(1,2,4,5,6,7,8,6,6,5,5)',\n",
       "  'def test2(** kwargs):\\n    print(kwargs)\\ntest2(a=1,b=2,c=3,d=4,e=5)',\n",
       "  'Config={\\n    \"host\":\"127.0.0.1\"\\n    \"user\":\\'root\\'\\n}\\ntest2(**Config)',\n",
       "  'Config={\\n    \"host\":\"127.0.0.1\"\\n    \"user\":\\'root\\'\\n}\\ntest2(**Config)',\n",
       "  'Config={\\n    \"host\":\"127.0.0.1\"\\n    \"user\":\\'root\\'\\n}\\ntest2(**Config)',\n",
       "  'Config={\\n    \"host\":\"127.0.0.1\"\\n    \"user\":\"root\"\\n}\\ntest2(**Config)',\n",
       "  'Config={\\n    \"host\":\"127.0.0.1\"\\n    \"user\":\"root\"\\n}\\ntest2(**Config)',\n",
       "  'Config={\\n    \"host\":\"127.0.0.1\",\\n    \"user\":\"root\",\\n}\\ntest2(**Config)',\n",
       "  '#实际用法\\ndef res(*args,**kwargs):\\n    print(args)\\n    print(kwargs)\\n    \\nres(1,2,3,4,5,a=3,c=4)',\n",
       "  'Mist2=[]\\ndef test5():\\n    Mist2.append(100)\\n    print(Mist2)\\ntest5()',\n",
       "  'Mist=0\\ndef test4():\\n    global Mist\\n    Mist+=100\\n    print(Mist)\\n    ',\n",
       "  'test4()',\n",
       "  'globals()'],\n",
       " '_ii': 'Mist=0\\ndef test4():\\n    global Mist\\n    Mist+=100\\n    print(Mist)\\n    ',\n",
       " '_iii': 'Mist2=[]\\ndef test5():\\n    Mist2.append(100)\\n    print(Mist2)\\ntest5()',\n",
       " '_oh': {},\n",
       " 'acc': 'wll',\n",
       " 'exit': <IPython.core.autocall.ZMQExitAutocall at 0x559f668>,\n",
       " 'get_ipython': <bound method InteractiveShell.get_ipython of <ipykernel.zmqshell.ZMQInteractiveShell object at 0x00000000055811D0>>,\n",
       " 'jishu': <function __main__.jishu>,\n",
       " 'lifang': <function __main__.lifang>,\n",
       " 'login': <function __main__.login>,\n",
       " 'main': <function __main__.main>,\n",
       " 'n1': 'QECP',\n",
       " 'n2': 'YUIO',\n",
       " 'oushu': <function __main__.oushu>,\n",
       " 'pas': '123',\n",
       " 'pymysql': <module 'pymysql' from 'C:\\\\ProgramData\\\\Anaconda3\\\\lib\\\\site-packages\\\\pymysql\\\\__init__.py'>,\n",
       " 'quit': <IPython.core.autocall.ZMQExitAutocall at 0x559f668>,\n",
       " 'random': <module 'random' from 'C:\\\\ProgramData\\\\Anaconda3\\\\lib\\\\random.py'>,\n",
       " 'regist': <function __main__.regist>,\n",
       " 'res': <function __main__.res>,\n",
       " 'res1': 125,\n",
       " 'res2': 25,\n",
       " 'test': <function __main__.test>,\n",
       " 'test2': <function __main__.test2>,\n",
       " 'test4': <function __main__.test4>,\n",
       " 'test5': <function __main__.test5>,\n",
       " 'x1': 'wll',\n",
       " 'x2': '123',\n",
       " 'y1': 'we',\n",
       " 'y2': '2345'}"
      ]
     },
     "execution_count": 45,
     "metadata": {},
     "output_type": "execute_result"
    }
   ],
   "source": [
    "globals()"
   ]
  },
  {
   "cell_type": "code",
   "execution_count": 46,
   "metadata": {
    "collapsed": true
   },
   "outputs": [
    {
     "data": {
      "text/plain": [
       "{'Config': {'host': '127.0.0.1', 'user': 'root'},\n",
       " 'In': ['',\n",
       "  'def lifang():\\n    x=eval(input(\"输入一个数：\"))\\n    s=x**3\\n    print(s)\\n    \\nlifang()',\n",
       "  'def lifang():\\n    \\'\\'\\'这是一个返回立方的函数\\'\\'\\'\\n    x=eval(input(\"输入一个数：\"))\\n    s=x**3\\n   # print(s)\\n    return s\\nres=lifang()\\nprint(res)',\n",
       "  'def lifang():\\n    \\'\\'\\'这是一个返回立方的函数\\'\\'\\'\\n    x=eval(input(\"输入一个数：\"))\\n    s=x**3\\n   # print(s)\\n    return s,x**2\\nres1,res2=lifang()\\nprint(res1,res2)',\n",
       "  'import random\\ndef YanZheng():\\n    n=1\\n    while 1:\\n        a1=chr(random.randint(65,90))\\n        a2=chr(random.randint(65,90))\\n        a3=chr(random.randint(65,90))\\n        a4=chr(random.randint(65,90))\\n        num=a1+a2+a3+a4\\n        print(num)\\n        NUM= input(\"输入验证码\")\\n        if NUM==num:\\n            break\\n        else:\\n            if n==3:\\n                print(\"输入已超3次\")\\n                break\\n            else:\\n                print(\"wrong, try again:\")\\n                n+=1\\n         return NUM,num\\nn2,n1=YanZheng()\\nprint(n2,n1)',\n",
       "  'import random\\ndef YanZheng():\\n    n=1\\n    while 1:\\n        a1=chr(random.randint(65,90))\\n        a2=chr(random.randint(65,90))\\n        a3=chr(random.randint(65,90))\\n        a4=chr(random.randint(65,90))\\n        num=a1+a2+a3+a4\\n        print(num)\\n        NUM= input(\"输入验证码\")\\n        if NUM==num:\\n            break\\n        else:\\n            if n==3:\\n                print(\"输入已超3次\")\\n                break\\n            else:\\n                print(\"wrong, try again:\")\\n                n+=1\\n        return NUM,num\\nn2,n1=YanZheng()\\nprint(n2,n1)',\n",
       "  'def Jishu1():\\n    Oushu2()\\ndef Jishu3():\\n    Oushu4()\\ndef Jishu5():\\n    Oushu6()\\ndef Jishu7():\\n    Oushu8()\\ndef Jishu9():\\n    Oushu10()\\ndef Oushu10():\\n    print(\"Oushu10\")\\nJishu1()',\n",
       "  'def Jishu1():\\n    Oushu2()\\ndef Oushu2():\\n    Jishu3()\\ndef Jishu3():\\n    Oushu4()\\ndef Oushu4():\\n    Jishu5()\\ndef Jishu5():\\n    Oushu6()\\ndef Oushu6():\\n    Jishu7()\\ndef Jishu7():\\n    Oushu8()\\ndef Oushu8():\\n    Jishu9()\\ndef Jishu9():\\n    Oushu10()\\ndef Oushu10():\\n    print(\"Oushu10\")\\nJishu1()',\n",
       "  'def Jishu1():\\n    Oushu2()\\ndef Oushu2():\\n    Jishu3()\\ndef Jishu3():\\n    Oushu4()\\ndef Oushu4():\\n    Jishu5()\\n    print(\"4\")\\ndef Jishu5():\\n    Oushu6()\\n    print(\"5\")\\ndef Oushu6():\\n    Jishu7()\\n    print(\"6\")\\ndef Jishu7():\\n    Oushu8()\\n    print(\"7\")\\ndef Oushu8():\\n    Jishu9()\\n    print(\"8\")\\ndef Jishu9():\\n    Oushu10()\\n    print(\"9\")\\ndef Oushu10():\\n    print(\"Oushu10\")\\nJishu1()',\n",
       "  'def jishu():\\ndef oushu():\\nfor i in range(11):\\n    print()',\n",
       "  'def jishu():\\n    for i in range(11):\\n        print(\"def jishu\",i)\\n        oushu(i+2)  \\ndef oushu(j):\\n    print(\"oushu\",j)\\njishu()',\n",
       "  'def jishu():\\n    for i in range(1,11):\\n        print(\"jishu\",i)\\n        oushu(i+2)  \\ndef oushu(j):\\n    print(\"oushu\",j)\\njishu()',\n",
       "  'def jishu():\\n    for i in range(1,11):\\n        print(\"jishu\",i)\\n        oushu(i+1)  \\ndef oushu(j):\\n    print(\"oushu\",j)\\njishu()',\n",
       "  'def jishu():\\n    for i in range(1,11,2):\\n        print(\"jishu\",i)\\n        oushu(i+1)  \\ndef oushu(j):\\n    print(\"oushu\",j)\\njishu()',\n",
       "  'account=none',\n",
       "  'def regist( ):\\n    p1=input(\"Regist your account：\")\\n    p2=input(\"Regist your password：\")\\n    return p1,p2\\ndef login( ):\\n    pp1=input(\"Login your account：\")\\n    pp2=input(\"Login your password：\")\\n    return pp1,pp2\\nx1,x2=regist()\\ny1,y2=login( )\\nif x1==y1 and x2==y2:\\n    print(\"login success\")\\nelse\\n    print(\"Error\")',\n",
       "  'def regist( ):\\n    p1=input(\"Regist your account：\")\\n    p2=input(\"Regist your password：\")\\n    return p1,p2\\ndef login( ):\\n    pp1=input(\"Login your account：\")\\n    pp2=input(\"Login your password：\")\\n    return pp1,pp2\\nx1,x2=regist()\\ny1,y2=login( )\\nif x1==y1 and x2==y2:\\n    print(\"login success\")\\nelse:\\n    print(\"Error\")',\n",
       "  'def regist( ):\\n    p1=input(\"Regist your account：\")\\n    p2=input(\"Regist your password：\")\\n    return p1,p2\\ndef login( ):\\n    pp1=input(\"Login your account：\")\\n    pp2=input(\"Login your password：\")\\n    return pp1,pp2\\nx1,x2=regist()\\ny1,y2=login( )\\nif x1==y1 and x2==y2:\\n    print(\"login success\")\\nelse:\\n    print(\"Error\")',\n",
       "  'acc=\"\"\\npas=\"\"\\ndef regist(p1,p2):\\n    acc=p1\\n    pas=p2\\n\\ndef login(p1,p2):\\n    if p1==acc and p2==pas:\\n        print(\"login success\")\\n    else:\\n        print(\"Error\")\\n        \\ndef main():\\n    regist(\"wll\",\"123\")\\n    p1=input(\"Login your account：\")\\n    p2=input(\"Login your password：\")\\n    login(p1,p2)\\n    \\nmain()',\n",
       "  'def regist(p1,p2):\\n    global acc,pas=\"\",\"\"\\n    acc=p1\\n    pas=p2\\n\\ndef login(p1,p2):\\n    if p1==acc and p2==pas:\\n        print(\"login success\")\\n    else:\\n        print(\"Error\")\\n        \\ndef main():\\n    regist(\"wll\",\"123\")\\n    p1=input(\"Login your account：\")\\n    p2=input(\"Login your password：\")\\n    login(p1,p2)\\n    \\nmain()',\n",
       "  'def regist(p1,p2):\\n    global acc,pas\\n    acc=p1\\n    pas=p2\\n\\ndef login(p1,p2):\\n    if p1==acc and p2==pas:\\n        print(\"login success\")\\n    else:\\n        print(\"Error\")\\n        \\ndef main():\\n    regist(\"wll\",\"123\")\\n    p1=input(\"Login your account：\")\\n    p2=input(\"Login your password：\")\\n    login(p1,p2)\\n    \\nmain()',\n",
       "  'import pymysql',\n",
       "  'import Pymysql',\n",
       "  'import Pymysql',\n",
       "  'import Pymysql',\n",
       "  'import pymysql',\n",
       "  'def test(a,b,c,d=4):\\n    print(a,b,c,d)\\n    \\ntest(1,2,3)',\n",
       "  'def test(a,b,*,c,d=4):\\n    print(a,b,c,d)\\n    \\ntest(1,2,c=4,d=5)',\n",
       "  'def test(*args):\\n    print(args)\\n\\ntest(1,2,4,5,6,7,8,6,6,5,5)',\n",
       "  'def test(*args):\\n    print(args)\\n    print(type(args))\\n\\ntest(1,2,4,5,6,7,8,6,6,5,5)',\n",
       "  'def test(*Joker):\\n    print(args)\\n    print(type(args))\\n\\ntest(1,2,4,5,6,7,8,6,6,5,5)',\n",
       "  'def test(*Joker):\\n    print(Joker)\\n    print(type(Joker))\\n\\ntest(1,2,4,5,6,7,8,6,6,5,5)',\n",
       "  'def test(*Joker):\\n    print(Joker)\\n    print(type(Joker))   #返回的类型是元组\\n\\ntest(1,2,4,5,6,7,8,6,6,5,5)',\n",
       "  'def test(*args):\\n    print(args)\\n    print(type(args))   #返回的类型是元组\\n\\ntest(1,2,4,5,6,7,8,6,6,5,5)',\n",
       "  'def test2(** kwargs):\\n    print(kwargs)\\ntest2(a=1,b=2,c=3,d=4,e=5)',\n",
       "  'Config={\\n    \"host\":\"127.0.0.1\"\\n    \"user\":\\'root\\'\\n}\\ntest2(**Config)',\n",
       "  'Config={\\n    \"host\":\"127.0.0.1\"\\n    \"user\":\\'root\\'\\n}\\ntest2(**Config)',\n",
       "  'Config={\\n    \"host\":\"127.0.0.1\"\\n    \"user\":\\'root\\'\\n}\\ntest2(**Config)',\n",
       "  'Config={\\n    \"host\":\"127.0.0.1\"\\n    \"user\":\"root\"\\n}\\ntest2(**Config)',\n",
       "  'Config={\\n    \"host\":\"127.0.0.1\"\\n    \"user\":\"root\"\\n}\\ntest2(**Config)',\n",
       "  'Config={\\n    \"host\":\"127.0.0.1\",\\n    \"user\":\"root\",\\n}\\ntest2(**Config)',\n",
       "  '#实际用法\\ndef res(*args,**kwargs):\\n    print(args)\\n    print(kwargs)\\n    \\nres(1,2,3,4,5,a=3,c=4)',\n",
       "  'Mist2=[]\\ndef test5():\\n    Mist2.append(100)\\n    print(Mist2)\\ntest5()',\n",
       "  'Mist=0\\ndef test4():\\n    global Mist\\n    Mist+=100\\n    print(Mist)\\n    ',\n",
       "  'test4()',\n",
       "  'globals()',\n",
       "  'locals()'],\n",
       " 'Jishu1': <function __main__.Jishu1>,\n",
       " 'Jishu3': <function __main__.Jishu3>,\n",
       " 'Jishu5': <function __main__.Jishu5>,\n",
       " 'Jishu7': <function __main__.Jishu7>,\n",
       " 'Jishu9': <function __main__.Jishu9>,\n",
       " 'Mist': 100,\n",
       " 'Mist2': [100],\n",
       " 'Oushu10': <function __main__.Oushu10>,\n",
       " 'Oushu2': <function __main__.Oushu2>,\n",
       " 'Oushu4': <function __main__.Oushu4>,\n",
       " 'Oushu6': <function __main__.Oushu6>,\n",
       " 'Oushu8': <function __main__.Oushu8>,\n",
       " 'Out': {45: {...}},\n",
       " 'YanZheng': <function __main__.YanZheng>,\n",
       " '_': {...},\n",
       " '_45': {...},\n",
       " '__': '',\n",
       " '___': '',\n",
       " '__builtin__': <module 'builtins' (built-in)>,\n",
       " '__builtins__': <module 'builtins' (built-in)>,\n",
       " '__doc__': 'Automatically created module for IPython interactive environment',\n",
       " '__loader__': None,\n",
       " '__name__': '__main__',\n",
       " '__package__': None,\n",
       " '__spec__': None,\n",
       " '_dh': ['C:\\\\Users\\\\Administrator\\\\Desktop\\\\zxd\\\\doc_all\\\\Teacher\\\\Python基础'],\n",
       " '_i': 'globals()',\n",
       " '_i1': 'def lifang():\\n    x=eval(input(\"输入一个数：\"))\\n    s=x**3\\n    print(s)\\n    \\nlifang()',\n",
       " '_i10': 'def jishu():\\n    for i in range(11):\\n        print(\"def jishu\",i)\\n        oushu(i+2)  \\ndef oushu(j):\\n    print(\"oushu\",j)\\njishu()',\n",
       " '_i11': 'def jishu():\\n    for i in range(1,11):\\n        print(\"jishu\",i)\\n        oushu(i+2)  \\ndef oushu(j):\\n    print(\"oushu\",j)\\njishu()',\n",
       " '_i12': 'def jishu():\\n    for i in range(1,11):\\n        print(\"jishu\",i)\\n        oushu(i+1)  \\ndef oushu(j):\\n    print(\"oushu\",j)\\njishu()',\n",
       " '_i13': 'def jishu():\\n    for i in range(1,11,2):\\n        print(\"jishu\",i)\\n        oushu(i+1)  \\ndef oushu(j):\\n    print(\"oushu\",j)\\njishu()',\n",
       " '_i14': 'account=none',\n",
       " '_i15': 'def regist( ):\\n    p1=input(\"Regist your account：\")\\n    p2=input(\"Regist your password：\")\\n    return p1,p2\\ndef login( ):\\n    pp1=input(\"Login your account：\")\\n    pp2=input(\"Login your password：\")\\n    return pp1,pp2\\nx1,x2=regist()\\ny1,y2=login( )\\nif x1==y1 and x2==y2:\\n    print(\"login success\")\\nelse\\n    print(\"Error\")',\n",
       " '_i16': 'def regist( ):\\n    p1=input(\"Regist your account：\")\\n    p2=input(\"Regist your password：\")\\n    return p1,p2\\ndef login( ):\\n    pp1=input(\"Login your account：\")\\n    pp2=input(\"Login your password：\")\\n    return pp1,pp2\\nx1,x2=regist()\\ny1,y2=login( )\\nif x1==y1 and x2==y2:\\n    print(\"login success\")\\nelse:\\n    print(\"Error\")',\n",
       " '_i17': 'def regist( ):\\n    p1=input(\"Regist your account：\")\\n    p2=input(\"Regist your password：\")\\n    return p1,p2\\ndef login( ):\\n    pp1=input(\"Login your account：\")\\n    pp2=input(\"Login your password：\")\\n    return pp1,pp2\\nx1,x2=regist()\\ny1,y2=login( )\\nif x1==y1 and x2==y2:\\n    print(\"login success\")\\nelse:\\n    print(\"Error\")',\n",
       " '_i18': 'acc=\"\"\\npas=\"\"\\ndef regist(p1,p2):\\n    acc=p1\\n    pas=p2\\n\\ndef login(p1,p2):\\n    if p1==acc and p2==pas:\\n        print(\"login success\")\\n    else:\\n        print(\"Error\")\\n        \\ndef main():\\n    regist(\"wll\",\"123\")\\n    p1=input(\"Login your account：\")\\n    p2=input(\"Login your password：\")\\n    login(p1,p2)\\n    \\nmain()',\n",
       " '_i19': 'def regist(p1,p2):\\n    global acc,pas=\"\",\"\"\\n    acc=p1\\n    pas=p2\\n\\ndef login(p1,p2):\\n    if p1==acc and p2==pas:\\n        print(\"login success\")\\n    else:\\n        print(\"Error\")\\n        \\ndef main():\\n    regist(\"wll\",\"123\")\\n    p1=input(\"Login your account：\")\\n    p2=input(\"Login your password：\")\\n    login(p1,p2)\\n    \\nmain()',\n",
       " '_i2': 'def lifang():\\n    \\'\\'\\'这是一个返回立方的函数\\'\\'\\'\\n    x=eval(input(\"输入一个数：\"))\\n    s=x**3\\n   # print(s)\\n    return s\\nres=lifang()\\nprint(res)',\n",
       " '_i20': 'def regist(p1,p2):\\n    global acc,pas\\n    acc=p1\\n    pas=p2\\n\\ndef login(p1,p2):\\n    if p1==acc and p2==pas:\\n        print(\"login success\")\\n    else:\\n        print(\"Error\")\\n        \\ndef main():\\n    regist(\"wll\",\"123\")\\n    p1=input(\"Login your account：\")\\n    p2=input(\"Login your password：\")\\n    login(p1,p2)\\n    \\nmain()',\n",
       " '_i21': 'import pymysql',\n",
       " '_i22': 'import Pymysql',\n",
       " '_i23': 'import Pymysql',\n",
       " '_i24': 'import Pymysql',\n",
       " '_i25': 'import pymysql',\n",
       " '_i26': 'def test(a,b,c,d=4):\\n    print(a,b,c,d)\\n    \\ntest(1,2,3)',\n",
       " '_i27': 'def test(a,b,*,c,d=4):\\n    print(a,b,c,d)\\n    \\ntest(1,2,c=4,d=5)',\n",
       " '_i28': 'def test(*args):\\n    print(args)\\n\\ntest(1,2,4,5,6,7,8,6,6,5,5)',\n",
       " '_i29': 'def test(*args):\\n    print(args)\\n    print(type(args))\\n\\ntest(1,2,4,5,6,7,8,6,6,5,5)',\n",
       " '_i3': 'def lifang():\\n    \\'\\'\\'这是一个返回立方的函数\\'\\'\\'\\n    x=eval(input(\"输入一个数：\"))\\n    s=x**3\\n   # print(s)\\n    return s,x**2\\nres1,res2=lifang()\\nprint(res1,res2)',\n",
       " '_i30': 'def test(*Joker):\\n    print(args)\\n    print(type(args))\\n\\ntest(1,2,4,5,6,7,8,6,6,5,5)',\n",
       " '_i31': 'def test(*Joker):\\n    print(Joker)\\n    print(type(Joker))\\n\\ntest(1,2,4,5,6,7,8,6,6,5,5)',\n",
       " '_i32': 'def test(*Joker):\\n    print(Joker)\\n    print(type(Joker))   #返回的类型是元组\\n\\ntest(1,2,4,5,6,7,8,6,6,5,5)',\n",
       " '_i33': 'def test(*args):\\n    print(args)\\n    print(type(args))   #返回的类型是元组\\n\\ntest(1,2,4,5,6,7,8,6,6,5,5)',\n",
       " '_i34': 'def test2(** kwargs):\\n    print(kwargs)\\ntest2(a=1,b=2,c=3,d=4,e=5)',\n",
       " '_i35': 'Config={\\n    \"host\":\"127.0.0.1\"\\n    \"user\":\\'root\\'\\n}\\ntest2(**Config)',\n",
       " '_i36': 'Config={\\n    \"host\":\"127.0.0.1\"\\n    \"user\":\\'root\\'\\n}\\ntest2(**Config)',\n",
       " '_i37': 'Config={\\n    \"host\":\"127.0.0.1\"\\n    \"user\":\\'root\\'\\n}\\ntest2(**Config)',\n",
       " '_i38': 'Config={\\n    \"host\":\"127.0.0.1\"\\n    \"user\":\"root\"\\n}\\ntest2(**Config)',\n",
       " '_i39': 'Config={\\n    \"host\":\"127.0.0.1\"\\n    \"user\":\"root\"\\n}\\ntest2(**Config)',\n",
       " '_i4': 'import random\\ndef YanZheng():\\n    n=1\\n    while 1:\\n        a1=chr(random.randint(65,90))\\n        a2=chr(random.randint(65,90))\\n        a3=chr(random.randint(65,90))\\n        a4=chr(random.randint(65,90))\\n        num=a1+a2+a3+a4\\n        print(num)\\n        NUM= input(\"输入验证码\")\\n        if NUM==num:\\n            break\\n        else:\\n            if n==3:\\n                print(\"输入已超3次\")\\n                break\\n            else:\\n                print(\"wrong, try again:\")\\n                n+=1\\n         return NUM,num\\nn2,n1=YanZheng()\\nprint(n2,n1)',\n",
       " '_i40': 'Config={\\n    \"host\":\"127.0.0.1\",\\n    \"user\":\"root\",\\n}\\ntest2(**Config)',\n",
       " '_i41': '#实际用法\\ndef res(*args,**kwargs):\\n    print(args)\\n    print(kwargs)\\n    \\nres(1,2,3,4,5,a=3,c=4)',\n",
       " '_i42': 'Mist2=[]\\ndef test5():\\n    Mist2.append(100)\\n    print(Mist2)\\ntest5()',\n",
       " '_i43': 'Mist=0\\ndef test4():\\n    global Mist\\n    Mist+=100\\n    print(Mist)\\n    ',\n",
       " '_i44': 'test4()',\n",
       " '_i45': 'globals()',\n",
       " '_i46': 'locals()',\n",
       " '_i5': 'import random\\ndef YanZheng():\\n    n=1\\n    while 1:\\n        a1=chr(random.randint(65,90))\\n        a2=chr(random.randint(65,90))\\n        a3=chr(random.randint(65,90))\\n        a4=chr(random.randint(65,90))\\n        num=a1+a2+a3+a4\\n        print(num)\\n        NUM= input(\"输入验证码\")\\n        if NUM==num:\\n            break\\n        else:\\n            if n==3:\\n                print(\"输入已超3次\")\\n                break\\n            else:\\n                print(\"wrong, try again:\")\\n                n+=1\\n        return NUM,num\\nn2,n1=YanZheng()\\nprint(n2,n1)',\n",
       " '_i6': 'def Jishu1():\\n    Oushu2()\\ndef Jishu3():\\n    Oushu4()\\ndef Jishu5():\\n    Oushu6()\\ndef Jishu7():\\n    Oushu8()\\ndef Jishu9():\\n    Oushu10()\\ndef Oushu10():\\n    print(\"Oushu10\")\\nJishu1()',\n",
       " '_i7': 'def Jishu1():\\n    Oushu2()\\ndef Oushu2():\\n    Jishu3()\\ndef Jishu3():\\n    Oushu4()\\ndef Oushu4():\\n    Jishu5()\\ndef Jishu5():\\n    Oushu6()\\ndef Oushu6():\\n    Jishu7()\\ndef Jishu7():\\n    Oushu8()\\ndef Oushu8():\\n    Jishu9()\\ndef Jishu9():\\n    Oushu10()\\ndef Oushu10():\\n    print(\"Oushu10\")\\nJishu1()',\n",
       " '_i8': 'def Jishu1():\\n    Oushu2()\\ndef Oushu2():\\n    Jishu3()\\ndef Jishu3():\\n    Oushu4()\\ndef Oushu4():\\n    Jishu5()\\n    print(\"4\")\\ndef Jishu5():\\n    Oushu6()\\n    print(\"5\")\\ndef Oushu6():\\n    Jishu7()\\n    print(\"6\")\\ndef Jishu7():\\n    Oushu8()\\n    print(\"7\")\\ndef Oushu8():\\n    Jishu9()\\n    print(\"8\")\\ndef Jishu9():\\n    Oushu10()\\n    print(\"9\")\\ndef Oushu10():\\n    print(\"Oushu10\")\\nJishu1()',\n",
       " '_i9': 'def jishu():\\ndef oushu():\\nfor i in range(11):\\n    print()',\n",
       " '_ih': ['',\n",
       "  'def lifang():\\n    x=eval(input(\"输入一个数：\"))\\n    s=x**3\\n    print(s)\\n    \\nlifang()',\n",
       "  'def lifang():\\n    \\'\\'\\'这是一个返回立方的函数\\'\\'\\'\\n    x=eval(input(\"输入一个数：\"))\\n    s=x**3\\n   # print(s)\\n    return s\\nres=lifang()\\nprint(res)',\n",
       "  'def lifang():\\n    \\'\\'\\'这是一个返回立方的函数\\'\\'\\'\\n    x=eval(input(\"输入一个数：\"))\\n    s=x**3\\n   # print(s)\\n    return s,x**2\\nres1,res2=lifang()\\nprint(res1,res2)',\n",
       "  'import random\\ndef YanZheng():\\n    n=1\\n    while 1:\\n        a1=chr(random.randint(65,90))\\n        a2=chr(random.randint(65,90))\\n        a3=chr(random.randint(65,90))\\n        a4=chr(random.randint(65,90))\\n        num=a1+a2+a3+a4\\n        print(num)\\n        NUM= input(\"输入验证码\")\\n        if NUM==num:\\n            break\\n        else:\\n            if n==3:\\n                print(\"输入已超3次\")\\n                break\\n            else:\\n                print(\"wrong, try again:\")\\n                n+=1\\n         return NUM,num\\nn2,n1=YanZheng()\\nprint(n2,n1)',\n",
       "  'import random\\ndef YanZheng():\\n    n=1\\n    while 1:\\n        a1=chr(random.randint(65,90))\\n        a2=chr(random.randint(65,90))\\n        a3=chr(random.randint(65,90))\\n        a4=chr(random.randint(65,90))\\n        num=a1+a2+a3+a4\\n        print(num)\\n        NUM= input(\"输入验证码\")\\n        if NUM==num:\\n            break\\n        else:\\n            if n==3:\\n                print(\"输入已超3次\")\\n                break\\n            else:\\n                print(\"wrong, try again:\")\\n                n+=1\\n        return NUM,num\\nn2,n1=YanZheng()\\nprint(n2,n1)',\n",
       "  'def Jishu1():\\n    Oushu2()\\ndef Jishu3():\\n    Oushu4()\\ndef Jishu5():\\n    Oushu6()\\ndef Jishu7():\\n    Oushu8()\\ndef Jishu9():\\n    Oushu10()\\ndef Oushu10():\\n    print(\"Oushu10\")\\nJishu1()',\n",
       "  'def Jishu1():\\n    Oushu2()\\ndef Oushu2():\\n    Jishu3()\\ndef Jishu3():\\n    Oushu4()\\ndef Oushu4():\\n    Jishu5()\\ndef Jishu5():\\n    Oushu6()\\ndef Oushu6():\\n    Jishu7()\\ndef Jishu7():\\n    Oushu8()\\ndef Oushu8():\\n    Jishu9()\\ndef Jishu9():\\n    Oushu10()\\ndef Oushu10():\\n    print(\"Oushu10\")\\nJishu1()',\n",
       "  'def Jishu1():\\n    Oushu2()\\ndef Oushu2():\\n    Jishu3()\\ndef Jishu3():\\n    Oushu4()\\ndef Oushu4():\\n    Jishu5()\\n    print(\"4\")\\ndef Jishu5():\\n    Oushu6()\\n    print(\"5\")\\ndef Oushu6():\\n    Jishu7()\\n    print(\"6\")\\ndef Jishu7():\\n    Oushu8()\\n    print(\"7\")\\ndef Oushu8():\\n    Jishu9()\\n    print(\"8\")\\ndef Jishu9():\\n    Oushu10()\\n    print(\"9\")\\ndef Oushu10():\\n    print(\"Oushu10\")\\nJishu1()',\n",
       "  'def jishu():\\ndef oushu():\\nfor i in range(11):\\n    print()',\n",
       "  'def jishu():\\n    for i in range(11):\\n        print(\"def jishu\",i)\\n        oushu(i+2)  \\ndef oushu(j):\\n    print(\"oushu\",j)\\njishu()',\n",
       "  'def jishu():\\n    for i in range(1,11):\\n        print(\"jishu\",i)\\n        oushu(i+2)  \\ndef oushu(j):\\n    print(\"oushu\",j)\\njishu()',\n",
       "  'def jishu():\\n    for i in range(1,11):\\n        print(\"jishu\",i)\\n        oushu(i+1)  \\ndef oushu(j):\\n    print(\"oushu\",j)\\njishu()',\n",
       "  'def jishu():\\n    for i in range(1,11,2):\\n        print(\"jishu\",i)\\n        oushu(i+1)  \\ndef oushu(j):\\n    print(\"oushu\",j)\\njishu()',\n",
       "  'account=none',\n",
       "  'def regist( ):\\n    p1=input(\"Regist your account：\")\\n    p2=input(\"Regist your password：\")\\n    return p1,p2\\ndef login( ):\\n    pp1=input(\"Login your account：\")\\n    pp2=input(\"Login your password：\")\\n    return pp1,pp2\\nx1,x2=regist()\\ny1,y2=login( )\\nif x1==y1 and x2==y2:\\n    print(\"login success\")\\nelse\\n    print(\"Error\")',\n",
       "  'def regist( ):\\n    p1=input(\"Regist your account：\")\\n    p2=input(\"Regist your password：\")\\n    return p1,p2\\ndef login( ):\\n    pp1=input(\"Login your account：\")\\n    pp2=input(\"Login your password：\")\\n    return pp1,pp2\\nx1,x2=regist()\\ny1,y2=login( )\\nif x1==y1 and x2==y2:\\n    print(\"login success\")\\nelse:\\n    print(\"Error\")',\n",
       "  'def regist( ):\\n    p1=input(\"Regist your account：\")\\n    p2=input(\"Regist your password：\")\\n    return p1,p2\\ndef login( ):\\n    pp1=input(\"Login your account：\")\\n    pp2=input(\"Login your password：\")\\n    return pp1,pp2\\nx1,x2=regist()\\ny1,y2=login( )\\nif x1==y1 and x2==y2:\\n    print(\"login success\")\\nelse:\\n    print(\"Error\")',\n",
       "  'acc=\"\"\\npas=\"\"\\ndef regist(p1,p2):\\n    acc=p1\\n    pas=p2\\n\\ndef login(p1,p2):\\n    if p1==acc and p2==pas:\\n        print(\"login success\")\\n    else:\\n        print(\"Error\")\\n        \\ndef main():\\n    regist(\"wll\",\"123\")\\n    p1=input(\"Login your account：\")\\n    p2=input(\"Login your password：\")\\n    login(p1,p2)\\n    \\nmain()',\n",
       "  'def regist(p1,p2):\\n    global acc,pas=\"\",\"\"\\n    acc=p1\\n    pas=p2\\n\\ndef login(p1,p2):\\n    if p1==acc and p2==pas:\\n        print(\"login success\")\\n    else:\\n        print(\"Error\")\\n        \\ndef main():\\n    regist(\"wll\",\"123\")\\n    p1=input(\"Login your account：\")\\n    p2=input(\"Login your password：\")\\n    login(p1,p2)\\n    \\nmain()',\n",
       "  'def regist(p1,p2):\\n    global acc,pas\\n    acc=p1\\n    pas=p2\\n\\ndef login(p1,p2):\\n    if p1==acc and p2==pas:\\n        print(\"login success\")\\n    else:\\n        print(\"Error\")\\n        \\ndef main():\\n    regist(\"wll\",\"123\")\\n    p1=input(\"Login your account：\")\\n    p2=input(\"Login your password：\")\\n    login(p1,p2)\\n    \\nmain()',\n",
       "  'import pymysql',\n",
       "  'import Pymysql',\n",
       "  'import Pymysql',\n",
       "  'import Pymysql',\n",
       "  'import pymysql',\n",
       "  'def test(a,b,c,d=4):\\n    print(a,b,c,d)\\n    \\ntest(1,2,3)',\n",
       "  'def test(a,b,*,c,d=4):\\n    print(a,b,c,d)\\n    \\ntest(1,2,c=4,d=5)',\n",
       "  'def test(*args):\\n    print(args)\\n\\ntest(1,2,4,5,6,7,8,6,6,5,5)',\n",
       "  'def test(*args):\\n    print(args)\\n    print(type(args))\\n\\ntest(1,2,4,5,6,7,8,6,6,5,5)',\n",
       "  'def test(*Joker):\\n    print(args)\\n    print(type(args))\\n\\ntest(1,2,4,5,6,7,8,6,6,5,5)',\n",
       "  'def test(*Joker):\\n    print(Joker)\\n    print(type(Joker))\\n\\ntest(1,2,4,5,6,7,8,6,6,5,5)',\n",
       "  'def test(*Joker):\\n    print(Joker)\\n    print(type(Joker))   #返回的类型是元组\\n\\ntest(1,2,4,5,6,7,8,6,6,5,5)',\n",
       "  'def test(*args):\\n    print(args)\\n    print(type(args))   #返回的类型是元组\\n\\ntest(1,2,4,5,6,7,8,6,6,5,5)',\n",
       "  'def test2(** kwargs):\\n    print(kwargs)\\ntest2(a=1,b=2,c=3,d=4,e=5)',\n",
       "  'Config={\\n    \"host\":\"127.0.0.1\"\\n    \"user\":\\'root\\'\\n}\\ntest2(**Config)',\n",
       "  'Config={\\n    \"host\":\"127.0.0.1\"\\n    \"user\":\\'root\\'\\n}\\ntest2(**Config)',\n",
       "  'Config={\\n    \"host\":\"127.0.0.1\"\\n    \"user\":\\'root\\'\\n}\\ntest2(**Config)',\n",
       "  'Config={\\n    \"host\":\"127.0.0.1\"\\n    \"user\":\"root\"\\n}\\ntest2(**Config)',\n",
       "  'Config={\\n    \"host\":\"127.0.0.1\"\\n    \"user\":\"root\"\\n}\\ntest2(**Config)',\n",
       "  'Config={\\n    \"host\":\"127.0.0.1\",\\n    \"user\":\"root\",\\n}\\ntest2(**Config)',\n",
       "  '#实际用法\\ndef res(*args,**kwargs):\\n    print(args)\\n    print(kwargs)\\n    \\nres(1,2,3,4,5,a=3,c=4)',\n",
       "  'Mist2=[]\\ndef test5():\\n    Mist2.append(100)\\n    print(Mist2)\\ntest5()',\n",
       "  'Mist=0\\ndef test4():\\n    global Mist\\n    Mist+=100\\n    print(Mist)\\n    ',\n",
       "  'test4()',\n",
       "  'globals()',\n",
       "  'locals()'],\n",
       " '_ii': 'test4()',\n",
       " '_iii': 'Mist=0\\ndef test4():\\n    global Mist\\n    Mist+=100\\n    print(Mist)\\n    ',\n",
       " '_oh': {45: {...}},\n",
       " 'acc': 'wll',\n",
       " 'exit': <IPython.core.autocall.ZMQExitAutocall at 0x559f668>,\n",
       " 'get_ipython': <bound method InteractiveShell.get_ipython of <ipykernel.zmqshell.ZMQInteractiveShell object at 0x00000000055811D0>>,\n",
       " 'jishu': <function __main__.jishu>,\n",
       " 'lifang': <function __main__.lifang>,\n",
       " 'login': <function __main__.login>,\n",
       " 'main': <function __main__.main>,\n",
       " 'n1': 'QECP',\n",
       " 'n2': 'YUIO',\n",
       " 'oushu': <function __main__.oushu>,\n",
       " 'pas': '123',\n",
       " 'pymysql': <module 'pymysql' from 'C:\\\\ProgramData\\\\Anaconda3\\\\lib\\\\site-packages\\\\pymysql\\\\__init__.py'>,\n",
       " 'quit': <IPython.core.autocall.ZMQExitAutocall at 0x559f668>,\n",
       " 'random': <module 'random' from 'C:\\\\ProgramData\\\\Anaconda3\\\\lib\\\\random.py'>,\n",
       " 'regist': <function __main__.regist>,\n",
       " 'res': <function __main__.res>,\n",
       " 'res1': 125,\n",
       " 'res2': 25,\n",
       " 'test': <function __main__.test>,\n",
       " 'test2': <function __main__.test2>,\n",
       " 'test4': <function __main__.test4>,\n",
       " 'test5': <function __main__.test5>,\n",
       " 'x1': 'wll',\n",
       " 'x2': '123',\n",
       " 'y1': 'we',\n",
       " 'y2': '2345'}"
      ]
     },
     "execution_count": 46,
     "metadata": {},
     "output_type": "execute_result"
    }
   ],
   "source": [
    "locals()"
   ]
  },
  {
   "cell_type": "markdown",
   "metadata": {},
   "source": [
    "## 注意：\n",
    "- global ：在进行赋值操作的时候需要声明\n",
    "- 官方解释：This is because when you make an assignment to a variable in a scope, that variable becomes local to that scope and shadows any similarly named variable in the outer scope.\n",
    "- ![](../Photo/73.png)"
   ]
  },
  {
   "cell_type": "code",
   "execution_count": 8,
   "metadata": {},
   "outputs": [
    {
     "name": "stdout",
     "output_type": "stream",
     "text": [
      "1\n",
      "1\n"
     ]
    }
   ],
   "source": [
    "x = 1\n",
    "y = []\n",
    "def test():\n",
    "#     x = x  + 1\n",
    "    y.append(100)\n",
    "    print(x)\n",
    "test()\n",
    "print(x)"
   ]
  },
  {
   "cell_type": "markdown",
   "metadata": {},
   "source": [
    "## EP：\n",
    "- 定义一个邮箱加密函数，使得输入邮箱后进行ASCII码加密\n",
    "- 定义一个判断其是否为闰年的函数\n",
    "- 函数的嵌套：定义两个函数A，B，B函数接受A函数的数值并判定是否为奇数或者偶数"
   ]
  },
  {
   "cell_type": "markdown",
   "metadata": {},
   "source": [
    "# Homework\n",
    "- 1\n",
    "![](../Photo/74.png)"
   ]
  },
  {
   "cell_type": "code",
   "execution_count": 13,
   "metadata": {},
   "outputs": [
    {
     "name": "stdout",
     "output_type": "stream",
     "text": [
      "1.0 5.0 12.0 22.0 35.0 51.0 70.0 92.0 117.0 145.0 \n",
      "176.0 210.0 247.0 287.0 330.0 376.0 425.0 477.0 532.0 590.0 \n",
      "651.0 715.0 782.0 852.0 925.0 1001.0 1080.0 1162.0 1247.0 1335.0 \n",
      "1426.0 1520.0 1617.0 1717.0 1820.0 1926.0 2035.0 2147.0 2262.0 2380.0 \n",
      "2501.0 2625.0 2752.0 2882.0 3015.0 3151.0 3290.0 3432.0 3577.0 3725.0 \n",
      "3876.0 4030.0 4187.0 4347.0 4510.0 4676.0 4845.0 5017.0 5192.0 5370.0 \n",
      "5551.0 5735.0 5922.0 6112.0 6305.0 6501.0 6700.0 6902.0 7107.0 7315.0 \n",
      "7526.0 7740.0 7957.0 8177.0 8400.0 8626.0 8855.0 9087.0 9322.0 9560.0 \n",
      "9801.0 10045.0 10292.0 10542.0 10795.0 11051.0 11310.0 11572.0 11837.0 12105.0 \n",
      "12376.0 12650.0 12927.0 13207.0 13490.0 13776.0 14065.0 14357.0 14652.0 "
     ]
    }
   ],
   "source": [
    "def test(num):\n",
    "    for i in range(1,num):\n",
    "        print(i * (3*i -1) /2,end=' ')\n",
    "        if i % 10 == 0 and i !=0:\n",
    "            print()\n",
    "test(100)"
   ]
  },
  {
   "cell_type": "markdown",
   "metadata": {},
   "source": [
    "- 2 \n",
    "![](../Photo/75.png)"
   ]
  },
  {
   "cell_type": "code",
   "execution_count": 67,
   "metadata": {},
   "outputs": [
    {
     "name": "stdout",
     "output_type": "stream",
     "text": [
      "输入一个整数：1234\n",
      "1\n",
      "2\n",
      "3\n",
      "4\n",
      "sum= 10\n"
     ]
    }
   ],
   "source": [
    "def sumDigits(n):\n",
    "    summ=0\n",
    "    for i in n:\n",
    "        summ+=int(i)\n",
    "        print(i)\n",
    "    return summ\n",
    "        \n",
    "def main():\n",
    "    n=input(\"输入一个整数：\")\n",
    "    sum= sumDigits(n)\n",
    "    print(\"sum=\",sum)\n",
    "main()"
   ]
  },
  {
   "cell_type": "markdown",
   "metadata": {},
   "source": [
    "- 3\n",
    "![](../Photo/76.png)"
   ]
  },
  {
   "cell_type": "code",
   "execution_count": 74,
   "metadata": {},
   "outputs": [
    {
     "name": "stdout",
     "output_type": "stream",
     "text": [
      "Enter three number6,2,8\n",
      "The sorted number are: 2 6 8\n"
     ]
    }
   ],
   "source": [
    "def displaySortedNumber(n1,n2,n3):\n",
    "    if n1>n2:\n",
    "        t=n1\n",
    "        n1=n2\n",
    "        n2=t\n",
    "    if n2>n3:\n",
    "        t=n2\n",
    "        n2=n3\n",
    "        n3=t\n",
    "    if n1>n2:\n",
    "        t=n1\n",
    "        n1=n2\n",
    "        n2=t\n",
    "    print(\"The sorted number are:\",n1,n2,n3)\n",
    "\n",
    "a,b,c=eval(input(\"Enter three number\"))\n",
    "displaySortedNumber(a,b,c)\n"
   ]
  },
  {
   "cell_type": "markdown",
   "metadata": {},
   "source": [
    "- 4\n",
    "![](../Photo/77.png)"
   ]
  },
  {
   "cell_type": "markdown",
   "metadata": {},
   "source": [
    "- 5\n",
    "![](../Photo/78.png)"
   ]
  },
  {
   "cell_type": "code",
   "execution_count": 78,
   "metadata": {},
   "outputs": [
    {
     "name": "stdout",
     "output_type": "stream",
     "text": [
      "1 2 3 4 5 6 7 8 9 : \n",
      "; < = > ? @ A B C D \n",
      "E F G H I J K L M N \n",
      "O P Q R S T U V W X \n",
      "Y "
     ]
    }
   ],
   "source": [
    "def printCh(ch1,ch2,num):\n",
    "    q=0\n",
    "    for i in range(ord(ch1),ord(ch2),1):\n",
    "        q=q+1\n",
    "        print(chr(i),end=\" \")\n",
    "        if q%10==0:\n",
    "            print()\n",
    "    \n",
    "a=\"1\"\n",
    "b=\"Z\"\n",
    "printCh(a,b,10)"
   ]
  },
  {
   "cell_type": "markdown",
   "metadata": {},
   "source": [
    "- 6\n",
    "![](../Photo/79.png)"
   ]
  },
  {
   "cell_type": "code",
   "execution_count": 81,
   "metadata": {},
   "outputs": [
    {
     "name": "stdout",
     "output_type": "stream",
     "text": [
      "2010 年共有 366 天\n",
      "2011 年共有 366 天\n",
      "2012 年共有 365 天\n",
      "2013 年共有 366 天\n",
      "2014 年共有 366 天\n",
      "2015 年共有 366 天\n",
      "2016 年共有 365 天\n",
      "2017 年共有 366 天\n",
      "2018 年共有 366 天\n",
      "2019 年共有 366 天\n",
      "2020 年共有 365 天\n"
     ]
    }
   ],
   "source": [
    "def Days(year):\n",
    "    if year%4==0 and year%100!=0 or year%400==0:\n",
    "        sec=28\n",
    "    else:\n",
    "        sec=29\n",
    "    sumday=31+sec+31+30+31+30+31+31+30+31+30+31\n",
    "    return sumday\n",
    "\n",
    "sum1=0\n",
    "for i in range(2010,2021):\n",
    "    sum1=Days(i)\n",
    "    print(i,\"年共有\",sum1,\"天\")\n",
    "  "
   ]
  },
  {
   "cell_type": "markdown",
   "metadata": {},
   "source": [
    "- 7\n",
    "![](../Photo/80.png)"
   ]
  },
  {
   "cell_type": "markdown",
   "metadata": {},
   "source": [
    "- 8\n",
    "![](../Photo/81.png)"
   ]
  },
  {
   "cell_type": "markdown",
   "metadata": {},
   "source": [
    "- 9\n",
    "![](../Photo/82.png)\n",
    "![](../Photo/83.png)"
   ]
  },
  {
   "cell_type": "code",
   "execution_count": 91,
   "metadata": {},
   "outputs": [
    {
     "name": "stdout",
     "output_type": "stream",
     "text": [
      "Current date and time is: Jul 20, 2018  17:14:26\n"
     ]
    }
   ],
   "source": [
    "import time\n",
    "print (time.strftime(\"Current date and time is: %b %d, %Y  %H:%M:%S\", time.localtime()) )"
   ]
  },
  {
   "cell_type": "markdown",
   "metadata": {},
   "source": [
    "- 10\n",
    "![](../Photo/84.png)"
   ]
  },
  {
   "cell_type": "markdown",
   "metadata": {},
   "source": [
    "- 11 \n",
    "### 去网上寻找如何用Python代码发送邮件"
   ]
  },
  {
   "cell_type": "code",
   "execution_count": 102,
   "metadata": {},
   "outputs": [],
   "source": [
    "from email.mime.text import MIMEText  # 邮件文本转换\n",
    "import smtplib  # 发送邮件\n",
    "\n",
    "\n",
    "def Send_Email(accept_email, SMTP_server, Sender, password):\n",
    "    print('邮箱开始发送...')\n",
    "    # 三个参数：第一个为文本内容，第二个设置发送文本格式plain，第三个被文件utf-8 设置编码\n",
    "    msg = MIMEText('票已经抢到，尽快付款')  # 转为邮件文本,\n",
    "    msg[\"Subject\"] = \"王莉莉高手高手高高手\"  # 标题\n",
    "    msg[\"From\"] = Sender  # 发送者\n",
    "\n",
    "    mail_sever = smtplib.SMTP(SMTP_server, 25)  # 链接邮箱端，端口号25\n",
    "\n",
    "    mail_sever.login(Sender, password)  # 登录邮箱\n",
    "    # 要发送的邮箱号\n",
    "    email_list = [accept_email]\n",
    "    for EMAIL in email_list:\n",
    "        mail_sever.sendmail(Sender, EMAIL, msg.as_string())\n",
    "\n",
    "    # 关闭邮箱\n",
    "    mail_sever.quit()\n",
    "    print(\"邮箱发送成功 \")"
   ]
  },
  {
   "cell_type": "code",
   "execution_count": 103,
   "metadata": {},
   "outputs": [
    {
     "name": "stdout",
     "output_type": "stream",
     "text": [
      "邮箱开始发送...\n",
      "邮箱发送成功 \n"
     ]
    }
   ],
   "source": [
    "Send_Email('80844005@qq.com',\"smtp.sina.com\",'13848149435@sina.cn',\"jsjx6609732\")"
   ]
  },
  {
   "cell_type": "code",
   "execution_count": 109,
   "metadata": {},
   "outputs": [
    {
     "name": "stdout",
     "output_type": "stream",
     "text": [
      "Error: 无法发送邮件\n"
     ]
    }
   ],
   "source": [
    "#!/usr/bin/python\n",
    "# -*- coding: UTF-8 -*-\n",
    " \n",
    "import smtplib\n",
    "from email.mime.text import MIMEText\n",
    "from email.header import Header\n",
    " \n",
    "sender = '13848149435@sina.cn'\n",
    "password=\"jsjx6609732\"\n",
    "receivers = '184859874@qq.com'  # 接收邮件，可设置为你的QQ邮箱或者其他邮箱\n",
    " \n",
    "# 三个参数：第一个为文本内容，第二个 plain 设置文本格式，第三个 utf-8 设置编码\n",
    "message = MIMEText('Python 邮件发送测试...', 'plain', 'utf-8')\n",
    "message['From'] = Header(\"菜鸟教程\", 'utf-8')   # 发送者\n",
    "message['To'] =  Header(\"测试\", 'utf-8')        # 接收者\n",
    " \n",
    "subject = 'Python SMTP 邮件测试'\n",
    "message['Subject'] = Header(subject, 'utf-8')\n",
    " \n",
    "try:\n",
    "    smtpObj = smtplib.SMTP('smtp.sina.cn')\n",
    "    smtpObj.sendmail(sender, receivers, message.as_string(),password)\n",
    "    smtpObj.login(sender,password)\n",
    "    print( \"邮件发送成功\")\n",
    "except smtplib.SMTPException :\n",
    "    print( \"Error: 无法发送邮件\")"
   ]
  }
 ],
 "metadata": {
  "kernelspec": {
   "display_name": "Python 3",
   "language": "python",
   "name": "python3"
  },
  "language_info": {
   "codemirror_mode": {
    "name": "ipython",
    "version": 3
   },
   "file_extension": ".py",
   "mimetype": "text/x-python",
   "name": "python",
   "nbconvert_exporter": "python",
   "pygments_lexer": "ipython3",
   "version": "3.6.4"
  }
 },
 "nbformat": 4,
 "nbformat_minor": 2
}
